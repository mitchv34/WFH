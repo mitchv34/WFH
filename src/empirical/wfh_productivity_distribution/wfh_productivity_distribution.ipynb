{
 "cells": [
  {
   "cell_type": "code",
   "execution_count": 25,
   "metadata": {},
   "outputs": [
    {
     "name": "stdout",
     "output_type": "stream",
     "text": [
      "Productivity coverage for 4-digit NAICS: 24.900134% of total employment.\n",
      "Productivity coverage for 3-digit NAICS: 30.696650% of total employment.\n"
     ]
    }
   ],
   "source": [
    "import pandas as pd\n",
    "import numpy as np\n",
    "import matplotlib.pyplot as plt\n",
    "import seaborn as sns\n",
    "\n",
    "# Teleworkability\n",
    "wfh_share_estimation = pd.read_csv(\"/project/high_tech_ind/WFH/WFH/data/results/wfh_estimates.csv\")\n",
    "bls = pd.read_csv(\"/project/high_tech_ind/WFH/WFH/data/processed/bls/oews/oews_all_2023.csv\", low_memory=False)\n",
    "bls['TOT_EMP'] = pd.to_numeric(bls['TOT_EMP'], errors='coerce')\n",
    "bls_ind_3d = bls.loc[\n",
    "    (bls.I_GROUP == \"3-digit\") &\n",
    "    (bls.O_GROUP == 'detailed')\n",
    "].copy()\n",
    "bls_ind_3d[\"NAICS\"] = bls_ind_3d[\"NAICS\"].astype(str).apply(lambda x: x[:3])\n",
    "bls_ind_4d = bls.loc[\n",
    "    (bls.I_GROUP == \"4-digit\") &\n",
    "    (bls.O_GROUP == 'detailed')\n",
    "].copy()\n",
    "bls_ind_4d[\"NAICS\"] = bls_ind_4d[\"NAICS\"].astype(str).apply(lambda x: x[:4])\n",
    "\n",
    "productivity_4d = pd.read_csv(\"/project/high_tech_ind/WFH/WFH/data/processed/bls/productivity/productivity_4_Digit.csv\", dtype={'NAICS': str})\n",
    "productivity_3d = pd.read_csv(\"/project/high_tech_ind/WFH/WFH/data/processed/bls/productivity/productivity_3_Digit.csv\", dtype={'NAICS': str})\n",
    "\n",
    "prod_coverage_4d = bls_ind_4d[bls_ind_4d.NAICS.isin(productivity_4d.NAICS)].TOT_EMP.sum() / bls_ind_4d.TOT_EMP.sum()\n",
    "prod_coverage_3d = bls_ind_3d[bls_ind_3d.NAICS.isin(productivity_3d.NAICS)].TOT_EMP.sum() / bls_ind_3d.TOT_EMP.sum()\n",
    "print(f\"Productivity coverage for 4-digit NAICS: {prod_coverage_4d:2%} of total employment.\")\n",
    "print(f\"Productivity coverage for 3-digit NAICS: {prod_coverage_3d:2%} of total employment.\")\n",
    "\n",
    "# WFH rates by industry (from ACS)\n",
    "wfh_rates = pd.read_csv(\"/project/high_tech_ind/WFH/WFH/data/processed/acs/acs_136_YEAR_INDNAICS.csv\")\n",
    "# Exclude :\n",
    "    # Agriculture, Forestry, Fishing and Hunting: Codes starting with \"11\"\n",
    "    # Public Administration & Military : Codes starting with \"92\"\n",
    "    # Unemployed: Codes starting with \"99\"\n",
    "wfh_rates = wfh_rates.loc[\n",
    "    (~wfh_rates.INDNAICS.str.startswith(\"11\")) &\n",
    "    (~wfh_rates.INDNAICS.str.startswith(\"92\")) &\n",
    "    (~wfh_rates.INDNAICS.str.startswith(\"99\"))\n",
    "].copy()\n",
    "wfh_rates[\"NAICS\"] = wfh_rates[\"INDNAICS\"].astype(str).apply(lambda x: x[:3])\n",
    "wfh_rates_3d = wfh_rates.groupby([\"YEAR\", \"NAICS\"])[[\"WFH_INDEX\", \"TOTAL_WEIGHT\"]].apply(\n",
    "        lambda x: pd.Series({\n",
    "            \"WFH_INDEX\": np.average(x[\"WFH_INDEX\"], weights=x[\"TOTAL_WEIGHT\"]),\n",
    "            \"TOTAL_WEIGHT\": x[\"TOTAL_WEIGHT\"].sum(),\n",
    "        })\n",
    ").reset_index()\n",
    "\n",
    "bds_3d = pd.read_csv(\"https://www2.census.gov/programs-surveys/bds/tables/time-series/2022/bds2022_vcn3.csv\", dtype = {\"vcnaics3\": str})\n",
    "bds_3d.rename(columns = {\"vcnaics3\": \"NAICS\"}, inplace = True)"
   ]
  },
  {
   "cell_type": "markdown",
   "metadata": {},
   "source": [
    "# Step 1: Aggregate Telework Feasibility at the Industry Level\n",
    "\n",
    "Since I have telework feasibility at the occupation level and the occupation composition for each industry, I can form an industry-level \"teleworkability\" index. For industry $i$ :\n",
    "\n",
    "$$\n",
    "\\text { Tele }_i=\\sum_{j \\in \\text { occupations }} w_{i j} \\cdot \\text { Tele }_j\n",
    "$$\n",
    "\n",
    "where:\n",
    "- $w_{i j}$ is the share (or weight) of occupation $j$ in industry $i$,\n",
    "- Tele ${ }_j$ is the teleworkability score for occupation $j$.\n",
    "\n",
    "This aggregated measure should correlate with the potential remote work efficiency $\\left(\\psi-\\psi_0\\right)_i$ in that industry."
   ]
  },
  {
   "cell_type": "code",
   "execution_count": 26,
   "metadata": {},
   "outputs": [],
   "source": [
    "# Convert 3-digit NAICS to wide format with occupation composition of each industry\n",
    "bls_ind_3d_wide = bls_ind_3d[[\"NAICS\", \"NAICS_TITLE\", \"OCC_CODE\", \"TOT_EMP\"]].pivot(\n",
    "    index=[\"NAICS\", \"NAICS_TITLE\"],\n",
    "    columns=\"OCC_CODE\",\n",
    "    values=\"TOT_EMP\"\n",
    ").fillna(0)\n",
    "# Normalize the occupation composition\n",
    "bls_ind_3d_wide = bls_ind_3d_wide.div(bls_ind_3d_wide.sum(axis=1), axis=0)"
   ]
  },
  {
   "cell_type": "code",
   "execution_count": 29,
   "metadata": {},
   "outputs": [],
   "source": [
    "# # Merge WFH rates with BLS data\n",
    "# 1 - Use croswalk from ONET to SOC\n",
    "onet_soc_xwalk = pd.read_excel(\"https://www.onetcenter.org/taxonomy/2019/soc/2019_to_SOC_Crosswalk.xlsx?fmt=xlsx\", skiprows=3)\n",
    "onet_soc_xwalk.rename(\n",
    "    columns= lambda x: x.replace(' ','_').replace('-','_').replace('*','').replace(\"2019_\",\"\").replace(\"2018_\",\"\").upper(), \n",
    "    inplace=True\n",
    "    )\n",
    "onet_soc_xwalk.rename(columns={'SOC_CODE':'OCC_CODE', 'SOC_TITLE':'OCC_TITLE'}, inplace=True)\n",
    "# # With croswalk from ONET to SOC, collapse ONET data to SOC level\n",
    "# wfh_share_estimation_occ = wfh_share_estimation.merge(onet_soc_xwalk[[\"ONET_SOC_CODE\", \"OCC_CODE\"]], on=\"ONET_SOC_CODE\", how=\"left\")\n",
    "wfh_share_estimation_occ = wfh_share_estimation.groupby(\"OCC_CODE\")[\"ESTIMATE_WFH_ABLE\"].mean().reset_index()"
   ]
  },
  {
   "cell_type": "code",
   "execution_count": 30,
   "metadata": {},
   "outputs": [],
   "source": [
    "# Create a dictionary mapping each occupation to its remote work estimate\n",
    "wfh_map = wfh_share_estimation_occ.set_index('OCC_CODE')['ESTIMATE_WFH_ABLE'].to_dict()\n",
    "\n",
    "# Determine which occupation columns in the wide DataFrame are in the mapping\n",
    "common_occ = set(bls_ind_3d_wide.columns).intersection(wfh_map.keys())\n",
    "\n",
    "# Create a copy and multiply each matching column by its corresponding weight\n",
    "bls_ind_3d_wide_weighted = bls_ind_3d_wide.copy()\n",
    "for occ in bls_ind_3d_wide_weighted.columns:\n",
    "    if occ in common_occ:\n",
    "        # Weight the occupation column by the remote work estimate\n",
    "        bls_ind_3d_wide_weighted[occ] = bls_ind_3d_wide_weighted[occ] * wfh_map[occ]\n",
    "    else:\n",
    "        # Set the column to zero if it is not in the mapping\n",
    "        bls_ind_3d_wide_weighted[occ] = 0\n",
    "    \n",
    "\n",
    "ind_3_tele = bls_ind_3d_wide_weighted.sum(axis=1)\n",
    "ind_3_tele = ind_3_tele.to_frame().reset_index().rename(columns={0: \"TELE\"})"
   ]
  },
  {
   "cell_type": "markdown",
   "metadata": {},
   "source": [
    "# Step 2. Use Panel Data Variation to Identify Remote Work Efficiency\n",
    "\n",
    "Regression Specification\n",
    "\n",
    "We estimate the following panel regression to explain the percentage change in output per worker for industry $i$ in year $t$ :\n",
    "\n",
    "$$\\Delta \\ln ( output\\_per\\_worker_{i t})=\\eta_i+\\gamma_t+\\beta_1 \\alpha_{i t}+\\beta_2 (\\alpha_{i t} \\times Tele _i )+\\beta_3 hours\\_worked\\_change _{i t}+u_{i t}$$\n",
    "where:\n",
    "\n",
    "- $\\Delta \\ln(output\\_per\\_worker_{i t})$ is the percentage change (approximate log difference) in output per worker.\n",
    "- $\\eta_i$ are industry fixed effects capturing time-invariant industry characteristics.\n",
    "- $\\gamma_t$ are year fixed effects capturing common shocks over time.\n",
    "- $\\alpha_{i t}$ is the share of remote work.\n",
    "- $Tele_i$ is the industry-level teleworkability index, constructed from the occupation-level telework scores and industry occupation composition.\n",
    "- $hours\\_worked\\_change_{i t}$ is the percentage change in hours worked.\n",
    "- $u_{i t}=\\alpha_{i t} \\nu_i+\\varepsilon_{i t}$ is the composite error term, where $\\nu_i$ captures industry-specific deviations in remote work efficiency and $\\varepsilon_{i t}$ is an idiosyncratic error.\n",
    "\n",
    "Notes:\n",
    "- Interpretation:\n",
    "- $\\beta_1$ captures the baseline effect of remote work on productivity change.\n",
    "- $\\beta_2$ measures how this effect varies with the teleworkability index.\n",
    "- $\\beta_3$ controls for changes in hours worked.\n",
    "- Estimation Considerations:\n",
    "- Since $u_{i t}$ includes the term $\\alpha_{i t} \\nu_i$, there may be heteroskedasticity. Use robust or industryclustered standard errors.\n",
    "- Check for potential endogeneity of $\\alpha_{i t}$; if needed, consider an instrumental variable approach."
   ]
  },
  {
   "cell_type": "code",
   "execution_count": 31,
   "metadata": {},
   "outputs": [],
   "source": [
    "data = productivity_3d[\n",
    "    [\"Sector\", \"Year\", \"NAICS\", \"sectoral_output_millions\", \"hours_worked_millions\", \"sectoral_output_price_deflator_index\", \"employment_thousands\"]\n",
    "    ].rename(columns=lambda x : x.upper()).merge(\n",
    "        ind_3_tele, on=\"NAICS\", how=\"left\"\n",
    "    ).merge(\n",
    "        wfh_rates_3d[[\"YEAR\",\t\"NAICS\", \"WFH_INDEX\"]], on=[\"YEAR\", \"NAICS\"], how=\"inner\"\n",
    "    ).rename(columns={\"WFH_INDEX\": \"ALPHA\"}).copy()\n",
    "data[\"OUTPUT\"] = ( data[\"SECTORAL_OUTPUT_MILLIONS\"] / data[\"HOURS_WORKED_MILLIONS\"] ) / data[\"SECTORAL_OUTPUT_PRICE_DEFLATOR_INDEX\"] "
   ]
  },
  {
   "cell_type": "code",
   "execution_count": 32,
   "metadata": {},
   "outputs": [
    {
     "data": {
      "text/html": [
       "<table class=\"simpletable\">\n",
       "<tr>\n",
       "         <td></td>          <th>Model 1</th>  <th>Model 2: Year Fixed Effects</th>\n",
       "</tr>\n",
       "<tr>\n",
       "  <th>Intercept</th>       <td>2.416***</td>           <td>2.350***</td>          \n",
       "</tr>\n",
       "<tr>\n",
       "  <th></th>                 <td>(0.238)</td>            <td>(0.523)</td>          \n",
       "</tr>\n",
       "<tr>\n",
       "  <th>ALPHA</th>            <td>-9.999*</td>           <td>-13.647*</td>          \n",
       "</tr>\n",
       "<tr>\n",
       "  <th></th>                 <td>(5.120)</td>            <td>(7.851)</td>          \n",
       "</tr>\n",
       "<tr>\n",
       "  <th>TELE:ALPHA</th>      <td>91.386***</td>         <td>100.720***</td>         \n",
       "</tr>\n",
       "<tr>\n",
       "  <th></th>                <td>(22.589)</td>           <td>(30.157)</td>          \n",
       "</tr>\n",
       "<tr>\n",
       "  <th>C(YEAR)[T.2014]</th>     <td></td>                 <td>0.043</td>           \n",
       "</tr>\n",
       "<tr>\n",
       "  <th></th>                    <td></td>                <td>(0.727)</td>          \n",
       "</tr>\n",
       "<tr>\n",
       "  <th>C(YEAR)[T.2015]</th>     <td></td>                 <td>0.071</td>           \n",
       "</tr>\n",
       "<tr>\n",
       "  <th></th>                    <td></td>                <td>(0.740)</td>          \n",
       "</tr>\n",
       "<tr>\n",
       "  <th>C(YEAR)[T.2016]</th>     <td></td>                 <td>0.091</td>           \n",
       "</tr>\n",
       "<tr>\n",
       "  <th></th>                    <td></td>                <td>(0.747)</td>          \n",
       "</tr>\n",
       "<tr>\n",
       "  <th>C(YEAR)[T.2017]</th>     <td></td>                 <td>0.140</td>           \n",
       "</tr>\n",
       "<tr>\n",
       "  <th></th>                    <td></td>                <td>(0.753)</td>          \n",
       "</tr>\n",
       "<tr>\n",
       "  <th>C(YEAR)[T.2018]</th>     <td></td>                 <td>0.173</td>           \n",
       "</tr>\n",
       "<tr>\n",
       "  <th></th>                    <td></td>                <td>(0.755)</td>          \n",
       "</tr>\n",
       "<tr>\n",
       "  <th>C(YEAR)[T.2019]</th>     <td></td>                 <td>0.166</td>           \n",
       "</tr>\n",
       "<tr>\n",
       "  <th></th>                    <td></td>                <td>(0.746)</td>          \n",
       "</tr>\n",
       "<tr>\n",
       "  <th>C(YEAR)[T.2020]</th>     <td></td>                 <td>0.281</td>           \n",
       "</tr>\n",
       "<tr>\n",
       "  <th></th>                    <td></td>                <td>(0.799)</td>          \n",
       "</tr>\n",
       "<tr>\n",
       "  <th>C(YEAR)[T.2021]</th>     <td></td>                 <td>0.440</td>           \n",
       "</tr>\n",
       "<tr>\n",
       "  <th></th>                    <td></td>                <td>(0.884)</td>          \n",
       "</tr>\n",
       "<tr>\n",
       "  <th>C(YEAR)[T.2022]</th>     <td></td>                 <td>0.352</td>           \n",
       "</tr>\n",
       "<tr>\n",
       "  <th></th>                    <td></td>                <td>(0.908)</td>          \n",
       "</tr>\n",
       "<tr>\n",
       "  <th>C(YEAR)[T.2023]</th>     <td></td>                 <td>0.333</td>           \n",
       "</tr>\n",
       "<tr>\n",
       "  <th></th>                    <td></td>                <td>(0.896)</td>          \n",
       "</tr>\n",
       "<tr>\n",
       "  <th>R-squared</th>         <td>0.039</td>              <td>0.039</td>           \n",
       "</tr>\n",
       "<tr>\n",
       "  <th>R-squared Adj.</th>    <td>0.034</td>              <td>0.011</td>           \n",
       "</tr>\n",
       "<tr>\n",
       "  <th>N</th>                  <td>418</td>                <td>418</td>            \n",
       "</tr>\n",
       "<tr>\n",
       "  <th>R-squared</th>         <td>0.039</td>              <td>0.039</td>           \n",
       "</tr>\n",
       "</table><br/>\n",
       "Standard errors in parentheses.<br/>\n",
       "* p<.1, ** p<.05, ***p<.01"
      ],
      "text/latex": [
       "\\begin{table}\n",
       "\\caption{}\n",
       "\\label{}\n",
       "\\begin{center}\n",
       "\\begin{tabular}{lll}\n",
       "\\hline\n",
       "                & Model 1   & Model 2: Year Fixed Effects  \\\\\n",
       "\\hline\n",
       "Intercept       & 2.416***  & 2.350***                     \\\\\n",
       "                & (0.238)   & (0.523)                      \\\\\n",
       "ALPHA           & -9.999*   & -13.647*                     \\\\\n",
       "                & (5.120)   & (7.851)                      \\\\\n",
       "TELE:ALPHA      & 91.386*** & 100.720***                   \\\\\n",
       "                & (22.589)  & (30.157)                     \\\\\n",
       "C(YEAR)[T.2014] &           & 0.043                        \\\\\n",
       "                &           & (0.727)                      \\\\\n",
       "C(YEAR)[T.2015] &           & 0.071                        \\\\\n",
       "                &           & (0.740)                      \\\\\n",
       "C(YEAR)[T.2016] &           & 0.091                        \\\\\n",
       "                &           & (0.747)                      \\\\\n",
       "C(YEAR)[T.2017] &           & 0.140                        \\\\\n",
       "                &           & (0.753)                      \\\\\n",
       "C(YEAR)[T.2018] &           & 0.173                        \\\\\n",
       "                &           & (0.755)                      \\\\\n",
       "C(YEAR)[T.2019] &           & 0.166                        \\\\\n",
       "                &           & (0.746)                      \\\\\n",
       "C(YEAR)[T.2020] &           & 0.281                        \\\\\n",
       "                &           & (0.799)                      \\\\\n",
       "C(YEAR)[T.2021] &           & 0.440                        \\\\\n",
       "                &           & (0.884)                      \\\\\n",
       "C(YEAR)[T.2022] &           & 0.352                        \\\\\n",
       "                &           & (0.908)                      \\\\\n",
       "C(YEAR)[T.2023] &           & 0.333                        \\\\\n",
       "                &           & (0.896)                      \\\\\n",
       "R-squared       & 0.039     & 0.039                        \\\\\n",
       "R-squared Adj.  & 0.034     & 0.011                        \\\\\n",
       "N               & 418       & 418                          \\\\\n",
       "R-squared       & 0.039     & 0.039                        \\\\\n",
       "\\hline\n",
       "\\end{tabular}\n",
       "\\end{center}\n",
       "\\end{table}\n",
       "\\bigskip\n",
       "Standard errors in parentheses. \\newline \n",
       "* p<.1, ** p<.05, ***p<.01"
      ],
      "text/plain": [
       "<class 'statsmodels.iolib.summary2.Summary'>\n",
       "\"\"\"\n",
       "\n",
       "=====================================================\n",
       "                 Model 1  Model 2: Year Fixed Effects\n",
       "-----------------------------------------------------\n",
       "Intercept       2.416***  2.350***                   \n",
       "                (0.238)   (0.523)                    \n",
       "ALPHA           -9.999*   -13.647*                   \n",
       "                (5.120)   (7.851)                    \n",
       "TELE:ALPHA      91.386*** 100.720***                 \n",
       "                (22.589)  (30.157)                   \n",
       "C(YEAR)[T.2014]           0.043                      \n",
       "                          (0.727)                    \n",
       "C(YEAR)[T.2015]           0.071                      \n",
       "                          (0.740)                    \n",
       "C(YEAR)[T.2016]           0.091                      \n",
       "                          (0.747)                    \n",
       "C(YEAR)[T.2017]           0.140                      \n",
       "                          (0.753)                    \n",
       "C(YEAR)[T.2018]           0.173                      \n",
       "                          (0.755)                    \n",
       "C(YEAR)[T.2019]           0.166                      \n",
       "                          (0.746)                    \n",
       "C(YEAR)[T.2020]           0.281                      \n",
       "                          (0.799)                    \n",
       "C(YEAR)[T.2021]           0.440                      \n",
       "                          (0.884)                    \n",
       "C(YEAR)[T.2022]           0.352                      \n",
       "                          (0.908)                    \n",
       "C(YEAR)[T.2023]           0.333                      \n",
       "                          (0.896)                    \n",
       "R-squared       0.039     0.039                      \n",
       "R-squared Adj.  0.034     0.011                      \n",
       "N               418       418                        \n",
       "R-squared       0.039     0.039                      \n",
       "=====================================================\n",
       "Standard errors in parentheses.\n",
       "* p<.1, ** p<.05, ***p<.01\n",
       "\"\"\""
      ]
     },
     "metadata": {},
     "output_type": "display_data"
    }
   ],
   "source": [
    "import statsmodels.api as sm\n",
    "import statsmodels.formula.api as smf\n",
    "from statsmodels.iolib.summary2 import summary_col\n",
    "\n",
    "# Drop missing values\n",
    "data = data.dropna(subset=[\"TELE\", \"ALPHA\", \"OUTPUT\"])\n",
    "data[\"YEAR\"] = data[\"YEAR\"].astype(int)\n",
    "\n",
    "# Define regression formulas\n",
    "formula1 = \"OUTPUT ~ ALPHA + TELE:ALPHA\" \n",
    "formula2 = \"OUTPUT ~ ALPHA + TELE:ALPHA + C(YEAR)\"\n",
    "formula3 = \"OUTPUT ~ ALPHA + TELE:ALPHA + C(SECTOR)\"\n",
    "# Fit the model\n",
    "model1 = smf.ols(formula=formula1, data=data).fit(cov_type='HC3')\n",
    "model2 = smf.ols(formula=formula2, data=data).fit(cov_type='HC3')\n",
    "# TODO: Add weighted \n",
    "# model2 = sm.WLS(formula=formula2, data=data, weights=data[\"EMPLOYMENT_THOUSANDS\"])\n",
    "\n",
    "\n",
    "table = summary_col([model1, model2],\n",
    "                    stars=True,\n",
    "                    float_format=\"%.3f\",\n",
    "                    model_names=[\"Model 1\", \"Model 2: Year Fixed Effects\", \"Model 3: Sector Fixed Effects\"],\n",
    "                    info_dict={'N': lambda x: f\"{int(x.nobs)}\", 'R-squared': lambda x: f\"{x.rsquared:.3f}\"}\n",
    ")\n",
    "\n",
    "display(table)"
   ]
  },
  {
   "cell_type": "code",
   "execution_count": 33,
   "metadata": {},
   "outputs": [
    {
     "name": "stdout",
     "output_type": "stream",
     "text": [
      "A: 2.416\n",
      "delta_0: -3.725\n",
      "delta_1: 37.824\n"
     ]
    }
   ],
   "source": [
    "# define model to use\n",
    "model = model1\n",
    "# Obtain the model coefficients\n",
    "beta_0 = model.params.Intercept\n",
    "beta_1 = model.params.ALPHA\n",
    "beta_2 = model.params[\"TELE:ALPHA\"]\n",
    "# Construct the \"other\" coefficient\n",
    "A = beta_0\n",
    "delta_0 = (beta_1 + 1) / A\n",
    "delta_1 = beta_2 / A\n",
    "print(f\"A: {A:.3f}\")\n",
    "print(f\"delta_0: {delta_0:.3f}\")\n",
    "print(f\"delta_1: {delta_1:.3f}\")"
   ]
  },
  {
   "cell_type": "code",
   "execution_count": 34,
   "metadata": {},
   "outputs": [],
   "source": [
    "# Construct psi = delta_0 + delta_1 * TELE\n",
    "ind_3_tele[\"PSI\"] = delta_0 + delta_1 * ind_3_tele[\"TELE\"]\n",
    "ind_3_tele = ind_3_tele.merge(bds_3d.loc[bds_3d.year == 2022, [\"job_creation_births\", \"NAICS\"]], on = \"NAICS\")\n",
    "ind_3_tele[\"JOB_CREATION_BIRTHS\"] = pd.to_numeric(ind_3_tele[\"job_creation_births\"], errors='coerce')\n",
    "ind_3_tele.drop(columns = [\"job_creation_births\"], inplace = True)"
   ]
  },
  {
   "cell_type": "code",
   "execution_count": 35,
   "metadata": {},
   "outputs": [
    {
     "data": {
      "application/vnd.microsoft.datawrangler.viewer.v0+json": {
       "columns": [
        {
         "name": "index",
         "rawType": "int64",
         "type": "integer"
        },
        {
         "name": "NAICS",
         "rawType": "object",
         "type": "string"
        },
        {
         "name": "NAICS_TITLE",
         "rawType": "object",
         "type": "string"
        },
        {
         "name": "TELE",
         "rawType": "float64",
         "type": "float"
        },
        {
         "name": "PSI",
         "rawType": "float64",
         "type": "float"
        },
        {
         "name": "JOB_CREATION_BIRTHS",
         "rawType": "int64",
         "type": "integer"
        }
       ],
       "conversionMethod": "pd.DataFrame",
       "ref": "a46c48d2-bc91-44d7-92df-9af202133f3e",
       "rows": [
        [
         "0",
         "113",
         "Forestry and Logging",
         "0.024381996607913046",
         "-2.8025203332040034",
         "1991"
        ],
        [
         "1",
         "115",
         "Support Activities for Agriculture and Forestry",
         "0.023704332987465472",
         "-2.82815223462678",
         "7296"
        ],
        [
         "2",
         "211",
         "Oil and Gas Extraction",
         "0.18841147474319672",
         "3.4017191849455073",
         "3367"
        ],
        [
         "3",
         "212",
         "Mining (except Oil and Gas)",
         "0.044959672768215324",
         "-2.024191748142388",
         "4468"
        ],
        [
         "4",
         "213",
         "Support Activities for Mining",
         "0.07150020070946603",
         "-1.0203246740189673",
         "12413"
        ],
        [
         "5",
         "221",
         "Utilities",
         "0.15671360170700707",
         "2.2027810503608385",
         "19294"
        ],
        [
         "6",
         "236",
         "Construction of Buildings",
         "0.1004518687930283",
         "0.07474119635001841",
         "106967"
        ],
        [
         "7",
         "237",
         "Heavy and Civil Engineering Construction",
         "0.05840424027291818",
         "-1.5156653663885495",
         "29987"
        ],
        [
         "8",
         "238",
         "Specialty Trade Contractors",
         "0.052205677554371825",
         "-1.7501193694819188",
         "221111"
        ],
        [
         "9",
         "311",
         "Food Manufacturing",
         "0.04251068963647948",
         "-2.116821914975363",
         "33461"
        ],
        [
         "10",
         "312",
         "Beverage and Tobacco Product Manufacturing",
         "0.07611484468116146",
         "-0.8457807029178079",
         "10499"
        ],
        [
         "11",
         "313",
         "Textile Mills",
         "0.052551902331977325",
         "-1.7370237876889258",
         "1844"
        ],
        [
         "12",
         "314",
         "Textile Product Mills",
         "0.07357470120281495",
         "-0.9418589123304439",
         "2379"
        ],
        [
         "13",
         "315",
         "Apparel Manufacturing",
         "0.09718006550825899",
         "-0.04901126245031673",
         "3546"
        ],
        [
         "14",
         "316",
         "Leather and Allied Product Manufacturing",
         "0.051926467734240846",
         "-1.7606801822065887",
         "451"
        ],
        [
         "15",
         "321",
         "Wood Product Manufacturing",
         "0.04989454423065649",
         "-1.8375355148096564",
         "10297"
        ],
        [
         "16",
         "322",
         "Paper Manufacturing",
         "0.0645045435646043",
         "-1.2849279209900977",
         "3958"
        ],
        [
         "17",
         "323",
         "Printing and Related Support Activities",
         "0.11553137805566666",
         "0.6451075009016995",
         "10505"
        ],
        [
         "18",
         "324",
         "Petroleum and Coal Products Manufacturing",
         "0.1020094534161394",
         "0.13365516828619572",
         "1130"
        ],
        [
         "19",
         "325",
         "Chemical Manufacturing",
         "0.1242784562185315",
         "0.9759563740635717",
         "27441"
        ],
        [
         "20",
         "326",
         "Plastics and Rubber Products Manufacturing",
         "0.06143734140916696",
         "-1.4009415609726803",
         "12786"
        ],
        [
         "21",
         "327",
         "Nonmetallic Mineral Product Manufacturing",
         "0.05921563857979276",
         "-1.4849750935321122",
         "7232"
        ],
        [
         "22",
         "331",
         "Primary Metal Manufacturing",
         "0.062029699987015526",
         "-1.378536231519813",
         "3825"
        ],
        [
         "23",
         "332",
         "Fabricated Metal Product Manufacturing",
         "0.07325234536323089",
         "-0.9540516770797423",
         "44625"
        ],
        [
         "24",
         "333",
         "Machinery Manufacturing",
         "0.11208994979192347",
         "0.5149391587505252",
         "16279"
        ],
        [
         "25",
         "334",
         "Computer and Electronic Product Manufacturing",
         "0.21919472970507692",
         "4.566062869403568",
         "14250"
        ],
        [
         "26",
         "335",
         "Electrical Equipment, Appliance, and Component Manufacturing",
         "0.11814309071773071",
         "0.7438927381178124",
         "6612"
        ],
        [
         "27",
         "336",
         "Transportation Equipment Manufacturing",
         "0.0929828205495182",
         "-0.20776756245449146",
         "34533"
        ],
        [
         "28",
         "337",
         "Furniture and Related Product Manufacturing",
         "0.07094092542822764",
         "-1.0414786631728048",
         "7211"
        ],
        [
         "29",
         "339",
         "Miscellaneous Manufacturing",
         "0.12003939549526409",
         "0.8156184375041451",
         "17833"
        ],
        [
         "30",
         "423",
         "Merchant Wholesalers, Durable Goods",
         "0.21578821193040165",
         "4.437214979151257",
         "108587"
        ],
        [
         "31",
         "424",
         "Merchant Wholesalers, Nondurable Goods",
         "0.18305923360292356",
         "3.1992763900854198",
         "91960"
        ],
        [
         "32",
         "425",
         "Wholesale Trade Agents and Brokers",
         "0.32894189871563373",
         "8.717132120619242",
         "16907"
        ],
        [
         "33",
         "441",
         "Motor Vehicle and Parts Dealers",
         "0.07395115410512192",
         "-0.9276199840611685",
         "88141"
        ],
        [
         "34",
         "444",
         "Building Material and Garden Equipment and Supplies Dealers",
         "0.054807945616546436",
         "-1.651691364152009",
         "27963"
        ],
        [
         "35",
         "445",
         "Food and Beverage Retailers",
         "0.02849895330316158",
         "-2.6468008508673906",
         "101900"
        ],
        [
         "36",
         "481",
         "Air Transportation",
         "0.045106518392270895",
         "-2.018637469520094",
         "2126"
        ],
        [
         "37",
         "483",
         "Water Transportation",
         "0.11702629117881357",
         "0.7016509904028907",
         "967"
        ],
        [
         "38",
         "484",
         "Truck Transportation",
         "0.04347952235696796",
         "-2.080176853860351",
         "115806"
        ],
        [
         "39",
         "485",
         "Transit and Ground Passenger Transportation",
         "0.02874595368336119",
         "-2.637458325747799",
         "18750"
        ],
        [
         "40",
         "486",
         "Pipeline Transportation",
         "0.1185081031423773",
         "0.757698942559554",
         "1056"
        ],
        [
         "41",
         "487",
         "Scenic and Sightseeing Transportation",
         "0.052011476651481356",
         "-1.757464810861545",
         "1717"
        ],
        [
         "42",
         "488",
         "Support Activities for Transportation",
         "0.1104175576671495",
         "0.4516827158945218",
         "45764"
        ],
        [
         "43",
         "492",
         "Couriers and Messengers",
         "0.021515333255999466",
         "-2.910948807496317",
         "45761"
        ],
        [
         "44",
         "493",
         "Warehousing and Storage",
         "0.04035923590750499",
         "-2.19819835047048",
         "60510"
        ],
        [
         "45",
         "512",
         "Motion Picture and Sound Recording Industries",
         "0.2217801913283444",
         "4.663855189162735",
         "23091"
        ],
        [
         "46",
         "517",
         "Telecommunications",
         "0.2143382803566269",
         "4.38237286863008",
         "35474"
        ],
        [
         "47",
         "518",
         "Computing Infrastructure Providers, Data Processing, Web Hosting, and Related Services",
         "0.36917808295069526",
         "10.239022741308935",
         "36232"
        ],
        [
         "48",
         "519",
         "Web Search Portals, Libraries, Archives, and Other Information Services",
         "0.295296413833806",
         "7.444527651689732",
         "10454"
        ],
        [
         "49",
         "521",
         "Monetary Authorities-Central Bank",
         "0.4038471948744546",
         "11.55034480793854",
         "20"
        ]
       ],
       "shape": {
        "columns": 5,
        "rows": 74
       }
      },
      "text/html": [
       "<div>\n",
       "<style scoped>\n",
       "    .dataframe tbody tr th:only-of-type {\n",
       "        vertical-align: middle;\n",
       "    }\n",
       "\n",
       "    .dataframe tbody tr th {\n",
       "        vertical-align: top;\n",
       "    }\n",
       "\n",
       "    .dataframe thead th {\n",
       "        text-align: right;\n",
       "    }\n",
       "</style>\n",
       "<table border=\"1\" class=\"dataframe\">\n",
       "  <thead>\n",
       "    <tr style=\"text-align: right;\">\n",
       "      <th></th>\n",
       "      <th>NAICS</th>\n",
       "      <th>NAICS_TITLE</th>\n",
       "      <th>TELE</th>\n",
       "      <th>PSI</th>\n",
       "      <th>JOB_CREATION_BIRTHS</th>\n",
       "    </tr>\n",
       "  </thead>\n",
       "  <tbody>\n",
       "    <tr>\n",
       "      <th>0</th>\n",
       "      <td>113</td>\n",
       "      <td>Forestry and Logging</td>\n",
       "      <td>0.024382</td>\n",
       "      <td>-2.802520</td>\n",
       "      <td>1991</td>\n",
       "    </tr>\n",
       "    <tr>\n",
       "      <th>1</th>\n",
       "      <td>115</td>\n",
       "      <td>Support Activities for Agriculture and Forestry</td>\n",
       "      <td>0.023704</td>\n",
       "      <td>-2.828152</td>\n",
       "      <td>7296</td>\n",
       "    </tr>\n",
       "    <tr>\n",
       "      <th>2</th>\n",
       "      <td>211</td>\n",
       "      <td>Oil and Gas Extraction</td>\n",
       "      <td>0.188411</td>\n",
       "      <td>3.401719</td>\n",
       "      <td>3367</td>\n",
       "    </tr>\n",
       "    <tr>\n",
       "      <th>3</th>\n",
       "      <td>212</td>\n",
       "      <td>Mining (except Oil and Gas)</td>\n",
       "      <td>0.044960</td>\n",
       "      <td>-2.024192</td>\n",
       "      <td>4468</td>\n",
       "    </tr>\n",
       "    <tr>\n",
       "      <th>4</th>\n",
       "      <td>213</td>\n",
       "      <td>Support Activities for Mining</td>\n",
       "      <td>0.071500</td>\n",
       "      <td>-1.020325</td>\n",
       "      <td>12413</td>\n",
       "    </tr>\n",
       "    <tr>\n",
       "      <th>...</th>\n",
       "      <td>...</td>\n",
       "      <td>...</td>\n",
       "      <td>...</td>\n",
       "      <td>...</td>\n",
       "      <td>...</td>\n",
       "    </tr>\n",
       "    <tr>\n",
       "      <th>69</th>\n",
       "      <td>721</td>\n",
       "      <td>Accommodation</td>\n",
       "      <td>0.038205</td>\n",
       "      <td>-2.279691</td>\n",
       "      <td>85705</td>\n",
       "    </tr>\n",
       "    <tr>\n",
       "      <th>70</th>\n",
       "      <td>722</td>\n",
       "      <td>Food Services and Drinking Places</td>\n",
       "      <td>0.009778</td>\n",
       "      <td>-3.354903</td>\n",
       "      <td>918022</td>\n",
       "    </tr>\n",
       "    <tr>\n",
       "      <th>71</th>\n",
       "      <td>811</td>\n",
       "      <td>Repair and Maintenance</td>\n",
       "      <td>0.061820</td>\n",
       "      <td>-1.386481</td>\n",
       "      <td>89538</td>\n",
       "    </tr>\n",
       "    <tr>\n",
       "      <th>72</th>\n",
       "      <td>812</td>\n",
       "      <td>Personal and Laundry Services</td>\n",
       "      <td>0.037584</td>\n",
       "      <td>-2.303161</td>\n",
       "      <td>124794</td>\n",
       "    </tr>\n",
       "    <tr>\n",
       "      <th>73</th>\n",
       "      <td>813</td>\n",
       "      <td>Religious, Grantmaking, Civic, Professional, a...</td>\n",
       "      <td>0.219323</td>\n",
       "      <td>4.570903</td>\n",
       "      <td>64650</td>\n",
       "    </tr>\n",
       "  </tbody>\n",
       "</table>\n",
       "<p>74 rows × 5 columns</p>\n",
       "</div>"
      ],
      "text/plain": [
       "   NAICS                                        NAICS_TITLE      TELE       PSI  JOB_CREATION_BIRTHS\n",
       "0    113                               Forestry and Logging  0.024382 -2.802520                 1991\n",
       "1    115    Support Activities for Agriculture and Forestry  0.023704 -2.828152                 7296\n",
       "2    211                             Oil and Gas Extraction  0.188411  3.401719                 3367\n",
       "3    212                        Mining (except Oil and Gas)  0.044960 -2.024192                 4468\n",
       "4    213                      Support Activities for Mining  0.071500 -1.020325                12413\n",
       "..   ...                                                ...       ...       ...                  ...\n",
       "69   721                                      Accommodation  0.038205 -2.279691                85705\n",
       "70   722                  Food Services and Drinking Places  0.009778 -3.354903               918022\n",
       "71   811                             Repair and Maintenance  0.061820 -1.386481                89538\n",
       "72   812                      Personal and Laundry Services  0.037584 -2.303161               124794\n",
       "73   813  Religious, Grantmaking, Civic, Professional, a...  0.219323  4.570903                64650\n",
       "\n",
       "[74 rows x 5 columns]"
      ]
     },
     "execution_count": 35,
     "metadata": {},
     "output_type": "execute_result"
    }
   ],
   "source": [
    "ind_3_tele"
   ]
  },
  {
   "cell_type": "code",
   "execution_count": 36,
   "metadata": {},
   "outputs": [
    {
     "data": {
      "image/png": "[encoded data removed]",
      "text/plain": [
       "<Figure size 1200x400 with 3 Axes>"
      ]
     },
     "metadata": {},
     "output_type": "display_data"
    }
   ],
   "source": [
    "fig, axes = plt.subplots(1, 3, figsize=(12, 4))\n",
    "\n",
    "# KDE plot\n",
    "sns.kdeplot(data=ind_3_tele, x=\"PSI\", weights=\"JOB_CREATION_BIRTHS\", ax=axes[0])\n",
    "sns.despine(ax=axes[0])\n",
    "axes[0].set_title(\"KDE Distribution of Psi\")\n",
    "\n",
    "# Histogram plot\n",
    "sns.histplot(data=ind_3_tele, x=\"PSI\", weights=\"JOB_CREATION_BIRTHS\", bins=20, stat=\"density\", ax=axes[1])\n",
    "sns.despine(ax=axes[1])\n",
    "axes[1].set_title(\"Histogram Distribution of Psi\")\n",
    "\n",
    "# ECDF plot\n",
    "sns.ecdfplot(data=ind_3_tele, x=\"PSI\", weights=\"JOB_CREATION_BIRTHS\", ax=axes[2])\n",
    "sns.despine(ax=axes[2])\n",
    "axes[2].set_title(\"ECDF of Psi\")\n",
    "\n",
    "plt.tight_layout()\n",
    "plt.show()"
   ]
  },
  {
   "cell_type": "code",
   "execution_count": 37,
   "metadata": {},
   "outputs": [
    {
     "data": {
      "image/png": "[encoded data removed]",
      "text/plain": [
       "<Figure size 1200x400 with 2 Axes>"
      ]
     },
     "metadata": {},
     "output_type": "display_data"
    }
   ],
   "source": [
    "from scipy.stats import gaussian_kde\n",
    "\n",
    "psi_values = ind_3_tele['PSI'].values\n",
    "weights = ind_3_tele[\"JOB_CREATION_BIRTHS\"].values\n",
    "\n",
    "kde = gaussian_kde(psi_values, weights=weights)\n",
    "num_grid_points = 100  # Adjust based on your model's needs\n",
    "grid = np.linspace(psi_values.min(), psi_values.max(), num_grid_points)\n",
    "pdf_values = kde.evaluate(grid)\n",
    "probabilities = pdf_values / pdf_values.sum()  # Ensure sum to 1\n",
    "psi_distribution = pd.DataFrame({\n",
    "    'grid_point': grid,\n",
    "    'pdf': probabilities\n",
    "})\n",
    "psi_distribution[\"probability\"] = psi_distribution[\"pdf\"] / psi_distribution[\"pdf\"].sum()\n",
    "psi_distribution[\"cdf\"] = psi_distribution[\"probability\"].cumsum()\n",
    "\n",
    "fig, ax = plt.subplots(1, 2, figsize=(12, 4))\n",
    "\n",
    "sns.lineplot(ax = ax[0], data=psi_distribution, x='grid_point', y='probability')\n",
    "ax[0].set_xlabel('Psi')\n",
    "ax[0].set_ylabel('Probability')\n",
    "ax[0].set_title('Estimated PDF of Psi')\n",
    "\n",
    "sns.lineplot(ax = ax[1], data=psi_distribution, x='grid_point', y='cdf')\n",
    "ax[1].set_xlabel('Psi')\n",
    "ax[1].set_ylabel('Cumulative Probability')\n",
    "ax[1].set_title('Estimated CDF of Psi')\n",
    "\n",
    "sns.despine()\n",
    "plt.show()"
   ]
  },
  {
   "cell_type": "code",
   "execution_count": 38,
   "metadata": {},
   "outputs": [],
   "source": [
    "dd = wfh_rates[[\"NAICS\", \"WFH_INDEX\"]].merge(ind_3_tele, on = \"NAICS\")"
   ]
  },
  {
   "cell_type": "code",
   "execution_count": 39,
   "metadata": {},
   "outputs": [
    {
     "data": {
      "text/plain": [
       "0.10175523480508808"
      ]
     },
     "execution_count": 39,
     "metadata": {},
     "output_type": "execute_result"
    }
   ],
   "source": [
    "psi_0_ind = 88\n",
    "psi, cdf_psi = psi_distribution.iloc[psi_0_ind][[\"grid_point\", \"cdf\"]]\n",
    "1 - (dd[dd.PSI <= psi].WFH_INDEX.sum() / dd.WFH_INDEX.sum()) * cdf_psi"
   ]
  },
  {
   "cell_type": "code",
   "execution_count": 40,
   "metadata": {},
   "outputs": [
    {
     "data": {
      "image/png": "[encoded data removed]",
      "text/plain": [
       "<Figure size 800x400 with 1 Axes>"
      ]
     },
     "metadata": {},
     "output_type": "display_data"
    }
   ],
   "source": [
    "fig, ax = plt.subplots(1, 1, figsize=(8, 4))\n",
    "\n",
    "sns.lineplot(ax = ax, data=psi_distribution, x='grid_point', y='probability')\n",
    "sns.despine()\n",
    "vline = psi_distribution.iloc[psi_0_ind]['grid_point']\n",
    "ax.axvline(x=vline, color='red', linestyle='--')\n",
    "ax.set_xlabel('Psi')\n",
    "ax.set_ylabel('Probability')\n",
    "ax.set_title('Estimated PDF of Psi');"
   ]
  },
  {
   "cell_type": "code",
   "execution_count": 41,
   "metadata": {},
   "outputs": [
    {
     "data": {
      "image/png": "[encoded data removed]",
      "text/plain": [
       "<Figure size 1000x500 with 1 Axes>"
      ]
     },
     "metadata": {},
     "output_type": "display_data"
    }
   ],
   "source": [
    "job_posting_data = pd.read_csv(\"../../../data/processed/wfh_map/country_by_month.csv\",\n",
    "                                # usecols = [\"NAICS\", \"N\", \"PERCENT\"],\n",
    "                                dtype = {\"OCC_CODE\": str})\n",
    "job_posting_data[\"PERCENT\"] = job_posting_data[\"PERCENT\"] / 100\n",
    "job_posting_data[\"PERCENT_3MA\"] = job_posting_data[\"PERCENT_3MA\"] / 100\n",
    "job_posting_data[\"YEAR_MONTH\"] = pd.to_datetime(job_posting_data[\"YEAR_MONTH\"])\n",
    "\n",
    "plt.figure(figsize=(10, 5))\n",
    "sns.lineplot(data=job_posting_data, x=\"YEAR_MONTH\", y=\"PERCENT\", linewidth=2)\n",
    "sns.lineplot(data=job_posting_data, x=\"YEAR_MONTH\", y=\"PERCENT_3MA\", linewidth=2)\n",
    "sns.despine()\n",
    "plt.show()\n"
   ]
  },
  {
   "cell_type": "code",
   "execution_count": 42,
   "metadata": {},
   "outputs": [
    {
     "data": {
      "application/vnd.microsoft.datawrangler.viewer.v0+json": {
       "columns": [
        {
         "name": "index",
         "rawType": "int64",
         "type": "integer"
        },
        {
         "name": "ONET_SOC_CODE",
         "rawType": "object",
         "type": "string"
        },
        {
         "name": "SKILL_INDEX",
         "rawType": "float64",
         "type": "float"
        },
        {
         "name": "OCCUPATION_TITLE",
         "rawType": "object",
         "type": "string"
        },
        {
         "name": "OCC_CODE",
         "rawType": "object",
         "type": "string"
        }
       ],
       "conversionMethod": "pd.DataFrame",
       "ref": "62a42e22-8f5e-427a-9e56-71eba3083fe9",
       "rows": [
        [
         "0",
         "53-2011.00",
         "1.0",
         "Airline Pilots, Copilots, and Flight Engineers",
         "53-2011"
        ],
        [
         "1",
         "17-2199.08",
         "0.8453217785234622",
         "Robotics Engineers",
         "17-2199"
        ],
        [
         "2",
         "19-2012.00",
         "0.8330572486057597",
         "Physicists",
         "19-2012"
        ],
        [
         "3",
         "29-1021.00",
         "0.8286027737152821",
         "Dentists, General",
         "29-1021"
        ],
        [
         "4",
         "17-2112.03",
         "0.8222510927494557",
         "Manufacturing Engineers",
         "17-2112"
        ],
        [
         "5",
         "53-2012.00",
         "0.8147374967933092",
         "Commercial Pilots",
         "53-2012"
        ],
        [
         "6",
         "11-1011.00",
         "0.7906152639302356",
         "Chief Executives",
         "11-1011"
        ],
        [
         "7",
         "29-1241.00",
         "0.7895026762978745",
         "Ophthalmologists, Except Pediatric",
         "29-1241"
        ],
        [
         "8",
         "19-1029.02",
         "0.7686673942039529",
         "Molecular and Cellular Biologists",
         "19-1029"
        ],
        [
         "9",
         "29-1022.00",
         "0.7661145796987401",
         "Oral and Maxillofacial Surgeons",
         "29-1022"
        ],
        [
         "10",
         "19-1021.00",
         "0.758967886900122",
         "Biochemists and Biophysicists",
         "19-1021"
        ],
        [
         "11",
         "49-9095.00",
         "0.7496473258880368",
         "Manufactured Building and Mobile Home Installers",
         "49-9095"
        ],
        [
         "12",
         "29-1229.05",
         "0.7480228225642142",
         "Preventive Medicine Physicians",
         "29-1229"
        ],
        [
         "13",
         "29-1211.00",
         "0.7413086927507756",
         "Anesthesiologists",
         "29-1211"
        ],
        [
         "14",
         "33-2011.00",
         "0.7401624503323823",
         "Firefighters",
         "33-2011"
        ],
        [
         "15",
         "29-1229.06",
         "0.7378796989876343",
         "Sports Medicine Physicians",
         "29-1229"
        ],
        [
         "16",
         "17-2199.09",
         "0.729885037560556",
         "Nanosystems Engineers",
         "17-2199"
        ],
        [
         "17",
         "29-1229.03",
         "0.7287769042381109",
         "Urologists",
         "29-1229"
        ],
        [
         "18",
         "29-1151.00",
         "0.7189066483874986",
         "Nurse Anesthetists",
         "29-1151"
        ],
        [
         "19",
         "29-1224.00",
         "0.717273731367168",
         "Radiologists",
         "29-1224"
        ],
        [
         "20",
         "17-3024.01",
         "0.7156815630338469",
         "Robotics Technicians",
         "17-3024"
        ],
        [
         "21",
         "53-2021.00",
         "0.7108855910498068",
         "Air Traffic Controllers",
         "53-2021"
        ],
        [
         "22",
         "29-1218.00",
         "0.705041041516643",
         "Obstetricians and Gynecologists",
         "29-1218"
        ],
        [
         "23",
         "29-1141.03",
         "0.7024842676248382",
         "Critical Care Nurses",
         "29-1141"
        ],
        [
         "24",
         "17-2031.00",
         "0.7020051818472023",
         "Bioengineers and Biomedical Engineers",
         "17-2031"
        ],
        [
         "25",
         "49-3011.00",
         "0.6995099434220152",
         "Aircraft Mechanics and Service Technicians",
         "49-3011"
        ],
        [
         "26",
         "29-1217.00",
         "0.6958631833963123",
         "Neurologists",
         "29-1217"
        ],
        [
         "27",
         "53-5021.00",
         "0.6933846073897002",
         "Captains, Mates, and Pilots of Water Vessels",
         "53-5021"
        ],
        [
         "28",
         "29-1171.00",
         "0.6878972275220261",
         "Nurse Practitioners",
         "29-1171"
        ],
        [
         "29",
         "11-3051.06",
         "0.6870865431173075",
         "Hydroelectric Production Managers",
         "11-3051"
        ],
        [
         "30",
         "49-1011.00",
         "0.6869969619956627",
         "First-Line Supervisors of Mechanics, Installers, and Repairers",
         "49-1011"
        ],
        [
         "31",
         "29-1222.00",
         "0.6864800970709611",
         "Physicians, Pathologists",
         "29-1222"
        ],
        [
         "32",
         "11-9032.00",
         "0.6850288169105401",
         "Education Administrators, Kindergarten through Secondary",
         "11-9032"
        ],
        [
         "33",
         "17-2151.00",
         "0.6849009617185057",
         "Mining and Geological Engineers, Including Mining Safety Engineers",
         "17-2151"
        ],
        [
         "34",
         "19-1041.00",
         "0.682806611185762",
         "Epidemiologists",
         "19-1041"
        ],
        [
         "35",
         "17-2161.00",
         "0.679827832673023",
         "Nuclear Engineers",
         "17-2161"
        ],
        [
         "36",
         "29-1229.02",
         "0.6771252213750785",
         "Hospitalists",
         "29-1229"
        ],
        [
         "37",
         "17-2041.00",
         "0.6760329255990016",
         "Chemical Engineers",
         "17-2041"
        ],
        [
         "38",
         "47-2111.00",
         "0.6720895415277787",
         "Electricians",
         "47-2111"
        ],
        [
         "39",
         "19-1022.00",
         "0.671107778627396",
         "Microbiologists",
         "19-1022"
        ],
        [
         "40",
         "29-1141.04",
         "0.6685194946172964",
         "Clinical Nurse Specialists",
         "29-1141"
        ],
        [
         "41",
         "33-1012.00",
         "0.6683160811311306",
         "First-Line Supervisors of Police and Detectives",
         "33-1012"
        ],
        [
         "42",
         "49-9092.00",
         "0.6672998385725092",
         "Commercial Divers",
         "49-9092"
        ],
        [
         "43",
         "27-2022.00",
         "0.6664797506246345",
         "Coaches and Scouts",
         "27-2022"
        ],
        [
         "44",
         "33-1021.00",
         "0.6657865280221462",
         "First-Line Supervisors of Firefighting and Prevention Workers",
         "33-1021"
        ],
        [
         "45",
         "17-2199.07",
         "0.6646914276805665",
         "Photonics Engineers",
         "17-2199"
        ],
        [
         "46",
         "29-1141.00",
         "0.66439892799608",
         "Registered Nurses",
         "29-1141"
        ],
        [
         "47",
         "49-3042.00",
         "0.6636242080195726",
         "Mobile Heavy Equipment Mechanics, Except Engines",
         "49-3042"
        ],
        [
         "48",
         "17-1011.00",
         "0.6631261501811831",
         "Architects, Except Landscape and Naval",
         "17-1011"
        ],
        [
         "49",
         "17-2141.02",
         "0.6628311758800767",
         "Automotive Engineers",
         "17-2141"
        ]
       ],
       "shape": {
        "columns": 4,
        "rows": 879
       }
      },
      "text/html": [
       "<div>\n",
       "<style scoped>\n",
       "    .dataframe tbody tr th:only-of-type {\n",
       "        vertical-align: middle;\n",
       "    }\n",
       "\n",
       "    .dataframe tbody tr th {\n",
       "        vertical-align: top;\n",
       "    }\n",
       "\n",
       "    .dataframe thead th {\n",
       "        text-align: right;\n",
       "    }\n",
       "</style>\n",
       "<table border=\"1\" class=\"dataframe\">\n",
       "  <thead>\n",
       "    <tr style=\"text-align: right;\">\n",
       "      <th></th>\n",
       "      <th>ONET_SOC_CODE</th>\n",
       "      <th>SKILL_INDEX</th>\n",
       "      <th>OCCUPATION_TITLE</th>\n",
       "      <th>OCC_CODE</th>\n",
       "    </tr>\n",
       "  </thead>\n",
       "  <tbody>\n",
       "    <tr>\n",
       "      <th>0</th>\n",
       "      <td>53-2011.00</td>\n",
       "      <td>1.000000</td>\n",
       "      <td>Airline Pilots, Copilots, and Flight Engineers</td>\n",
       "      <td>53-2011</td>\n",
       "    </tr>\n",
       "    <tr>\n",
       "      <th>1</th>\n",
       "      <td>17-2199.08</td>\n",
       "      <td>0.845322</td>\n",
       "      <td>Robotics Engineers</td>\n",
       "      <td>17-2199</td>\n",
       "    </tr>\n",
       "    <tr>\n",
       "      <th>2</th>\n",
       "      <td>19-2012.00</td>\n",
       "      <td>0.833057</td>\n",
       "      <td>Physicists</td>\n",
       "      <td>19-2012</td>\n",
       "    </tr>\n",
       "    <tr>\n",
       "      <th>3</th>\n",
       "      <td>29-1021.00</td>\n",
       "      <td>0.828603</td>\n",
       "      <td>Dentists, General</td>\n",
       "      <td>29-1021</td>\n",
       "    </tr>\n",
       "    <tr>\n",
       "      <th>4</th>\n",
       "      <td>17-2112.03</td>\n",
       "      <td>0.822251</td>\n",
       "      <td>Manufacturing Engineers</td>\n",
       "      <td>17-2112</td>\n",
       "    </tr>\n",
       "    <tr>\n",
       "      <th>...</th>\n",
       "      <td>...</td>\n",
       "      <td>...</td>\n",
       "      <td>...</td>\n",
       "      <td>...</td>\n",
       "    </tr>\n",
       "    <tr>\n",
       "      <th>874</th>\n",
       "      <td>39-5093.00</td>\n",
       "      <td>0.084179</td>\n",
       "      <td>Shampooers</td>\n",
       "      <td>39-5093</td>\n",
       "    </tr>\n",
       "    <tr>\n",
       "      <th>875</th>\n",
       "      <td>35-2021.00</td>\n",
       "      <td>0.083464</td>\n",
       "      <td>Food Preparation Workers</td>\n",
       "      <td>35-2021</td>\n",
       "    </tr>\n",
       "    <tr>\n",
       "      <th>876</th>\n",
       "      <td>39-3093.00</td>\n",
       "      <td>0.048349</td>\n",
       "      <td>Locker Room, Coatroom, and Dressing Room Atten...</td>\n",
       "      <td>39-3093</td>\n",
       "    </tr>\n",
       "    <tr>\n",
       "      <th>877</th>\n",
       "      <td>45-2041.00</td>\n",
       "      <td>0.027911</td>\n",
       "      <td>Graders and Sorters, Agricultural Products</td>\n",
       "      <td>45-2041</td>\n",
       "    </tr>\n",
       "    <tr>\n",
       "      <th>878</th>\n",
       "      <td>41-9012.00</td>\n",
       "      <td>0.000000</td>\n",
       "      <td>Models</td>\n",
       "      <td>41-9012</td>\n",
       "    </tr>\n",
       "  </tbody>\n",
       "</table>\n",
       "<p>879 rows × 4 columns</p>\n",
       "</div>"
      ],
      "text/plain": [
       "    ONET_SOC_CODE  SKILL_INDEX                                   OCCUPATION_TITLE OCC_CODE\n",
       "0      53-2011.00     1.000000     Airline Pilots, Copilots, and Flight Engineers  53-2011\n",
       "1      17-2199.08     0.845322                                 Robotics Engineers  17-2199\n",
       "2      19-2012.00     0.833057                                         Physicists  19-2012\n",
       "3      29-1021.00     0.828603                                  Dentists, General  29-1021\n",
       "4      17-2112.03     0.822251                            Manufacturing Engineers  17-2112\n",
       "..            ...          ...                                                ...      ...\n",
       "874    39-5093.00     0.084179                                         Shampooers  39-5093\n",
       "875    35-2021.00     0.083464                           Food Preparation Workers  35-2021\n",
       "876    39-3093.00     0.048349  Locker Room, Coatroom, and Dressing Room Atten...  39-3093\n",
       "877    45-2041.00     0.027911         Graders and Sorters, Agricultural Products  45-2041\n",
       "878    41-9012.00     0.000000                                             Models  41-9012\n",
       "\n",
       "[879 rows x 4 columns]"
      ]
     },
     "execution_count": 42,
     "metadata": {},
     "output_type": "execute_result"
    }
   ],
   "source": [
    "abilities = pd.read_csv(\"/project/high_tech_ind/WFH/WFH/data/onet_data/processed/measure/ABILITIES.csv\")\n",
    "skills = pd.read_csv(\"/project/high_tech_ind/WFH/WFH/data/onet_data/processed/measure/SKILLS.csv\")\n",
    "occ_data = pd.read_csv(\"/project/high_tech_ind/WFH/WFH/data/onet_data/processed/reference/OCCUPATION_DATA.csv\")\n",
    "\n",
    "skills = skills.pivot(\n",
    "    index=[\"ONET_SOC_CODE\", \"ELEMENT_ID\", \"ELEMENT_NAME\"],\n",
    "    columns=\"SCALE_ID\",\n",
    "    values=\"DATA_VALUE\"\n",
    ").reset_index().fillna(0)\n",
    "\n",
    "abilities = abilities.pivot(\n",
    "    index=[\"ONET_SOC_CODE\", \"ELEMENT_ID\", \"ELEMENT_NAME\"],\n",
    "    columns=\"SCALE_ID\",\n",
    "    values=\"DATA_VALUE\"\n",
    ").reset_index().fillna(0)\n",
    "\n",
    "# Normalize abilities to the 0 1 scale\n",
    "abilities[\"IM\"] = (abilities[\"IM\"] - abilities[\"IM\"].min()) / (abilities[\"IM\"].max() - abilities[\"IM\"].min())\n",
    "abilities[\"LV\"] = (abilities[\"LV\"] - abilities[\"LV\"].min()) / (abilities[\"LV\"].max() - abilities[\"LV\"].min())\n",
    "abilities['SKILL_INDEX'] = abilities['IM'] * abilities['LV']\n",
    "\n",
    "\n",
    "\n",
    "# Normalize IM and LV to the 0 1 scale\n",
    "skills[\"IM\"] = (skills[\"IM\"] - skills[\"IM\"].min()) / (skills[\"IM\"].max() - skills[\"IM\"].min())\n",
    "skills[\"LV\"] = (skills[\"LV\"] - skills[\"LV\"].min()) / (skills[\"LV\"].max() - skills[\"LV\"].min())\n",
    "skills['SKILL_INDEX'] = skills['IM'] * skills['LV']\n",
    "\n",
    "all_data = pd.concat([skills, abilities], axis=0)\n",
    "\n",
    "all_data = all_data.groupby([\"ONET_SOC_CODE\"]).agg({\"SKILL_INDEX\": \"mean\"}).reset_index()\n",
    "# # Add the occupation titles\n",
    "all_data = all_data.merge(occ_data[[\"ONET_SOC_CODE\", \"OCCUPATION_TITLE\"]], on=\"ONET_SOC_CODE\")\n",
    "all_data = all_data.sort_values(\"SKILL_INDEX\", ascending=False)\n",
    "# Normalize the skill index to the 0 1 scale\n",
    "all_data[\"SKILL_INDEX\"] = (all_data[\"SKILL_INDEX\"] - all_data[\"SKILL_INDEX\"].min()) / (all_data[\"SKILL_INDEX\"].max() - all_data[\"SKILL_INDEX\"].min())\n",
    "all_data = all_data.merge(onet_soc_xwalk[[\"ONET_SOC_CODE\", \"OCC_CODE\"]], on=\"ONET_SOC_CODE\")\n",
    "all_data"
   ]
  },
  {
   "cell_type": "code",
   "execution_count": 43,
   "metadata": {},
   "outputs": [
    {
     "data": {
      "image/png": "[encoded data removed]",
      "text/plain": [
       "<Figure size 640x480 with 1 Axes>"
      ]
     },
     "metadata": {},
     "output_type": "display_data"
    }
   ],
   "source": [
    "# Plot KDE of skill_index\n",
    "sns.kdeplot(data=all_data, x=\"SKILL_INDEX\")\n",
    "plt.title(\"KDE of Skill Index\")\n",
    "plt.xlabel(\"Skill Index\")\n",
    "plt.ylabel(\"Density\")\n",
    "# Limit to 0 1 range\n",
    "plt.xlim(0, 1)\n",
    "sns.despine()\n",
    "plt.show()"
   ]
  },
  {
   "cell_type": "code",
   "execution_count": 46,
   "metadata": {},
   "outputs": [],
   "source": [
    "all_data_soc = all_data.groupby(\"OCC_CODE\").agg({\"SKILL_INDEX\": \"mean\"}).reset_index()\n",
    "# wfh_share_estimation_occ = wfh_share_estimation.merge(onet_soc_xwalk[[\"ONET_SOC_CODE\", \"OCC_CODE\"]], on=\"ONET_SOC_CODE\", how=\"left\")\n",
    "# wfh_share_estimation_occ = wfh_share_estimation_occ.groupby(\"OCC_CODE\")[\"ESTIMATE_WFH_ABLE\"].mean().reset_index()\n",
    "wfh_share_estimation_occ = wfh_share_estimation_occ.merge(all_data_soc, on=\"OCC_CODE\", how=\"inner\").set_index(\"OCC_CODE\")"
   ]
  },
  {
   "cell_type": "code",
   "execution_count": 47,
   "metadata": {},
   "outputs": [
    {
     "data": {
      "image/png": "[encoded data removed]",
      "text/plain": [
       "<Figure size 640x480 with 1 Axes>"
      ]
     },
     "metadata": {},
     "output_type": "display_data"
    }
   ],
   "source": [
    "sns.scatterplot(data=wfh_share_estimation_occ, x=\"SKILL_INDEX\", y=\"ESTIMATE_WFH_ABLE\")\n",
    "plt.title(\"Scatterplot of Skill Index and WFH Index\")\n",
    "plt.xlabel(\"Skill Index\")\n",
    "plt.ylabel(\"WFH Index\")\n",
    "sns.despine()\n",
    "plt.show()"
   ]
  },
  {
   "cell_type": "code",
   "execution_count": 48,
   "metadata": {},
   "outputs": [],
   "source": [
    "bls_ind_3d_wide = bls_ind_3d[[\"NAICS\", \"NAICS_TITLE\", \"OCC_CODE\", \"TOT_EMP\"]].pivot(\n",
    "    index=[\"NAICS\", \"NAICS_TITLE\"],\n",
    "    columns=\"OCC_CODE\",\n",
    "    values=\"TOT_EMP\"\n",
    ").fillna(0)\n",
    "# Normalize the occupation composition\n",
    "bls_ind_3d_wide = bls_ind_3d_wide.div(bls_ind_3d_wide.sum(axis=1), axis=0)"
   ]
  },
  {
   "cell_type": "code",
   "execution_count": 49,
   "metadata": {},
   "outputs": [
    {
     "data": {
      "application/vnd.microsoft.datawrangler.viewer.v0+json": {
       "columns": [
        {
         "name": "index",
         "rawType": "int64",
         "type": "integer"
        },
        {
         "name": "NAICS",
         "rawType": "object",
         "type": "string"
        },
        {
         "name": "NAICS_TITLE",
         "rawType": "object",
         "type": "string"
        },
        {
         "name": "TELE",
         "rawType": "float64",
         "type": "float"
        },
        {
         "name": "SKILL",
         "rawType": "float64",
         "type": "float"
        }
       ],
       "conversionMethod": "pd.DataFrame",
       "ref": "b0162c66-e94b-48a2-8863-7879ae23c4f5",
       "rows": [
        [
         "0",
         "113",
         "Forestry and Logging",
         "0.024381996607913046",
         "0.40641545773803595"
        ],
        [
         "1",
         "115",
         "Support Activities for Agriculture and Forestry",
         "0.023704332987465472",
         "0.3722056098825713"
        ],
        [
         "2",
         "211",
         "Oil and Gas Extraction",
         "0.18841147474319672",
         "0.44863351859667544"
        ],
        [
         "3",
         "212",
         "Mining (except Oil and Gas)",
         "0.044959672768215324",
         "0.45434091985861363"
        ],
        [
         "4",
         "213",
         "Support Activities for Mining",
         "0.07150020070946603",
         "0.4450860168612941"
        ],
        [
         "5",
         "221",
         "Utilities",
         "0.15671360170700707",
         "0.4523340815285051"
        ],
        [
         "6",
         "236",
         "Construction of Buildings",
         "0.1004518687930283",
         "0.41260077835973036"
        ],
        [
         "7",
         "237",
         "Heavy and Civil Engineering Construction",
         "0.05840424027291818",
         "0.41863610227999215"
        ],
        [
         "8",
         "238",
         "Specialty Trade Contractors",
         "0.052205677554371825",
         "0.4278123436935511"
        ],
        [
         "9",
         "311",
         "Food Manufacturing",
         "0.04251068963647948",
         "0.29894321774932675"
        ],
        [
         "10",
         "312",
         "Beverage and Tobacco Product Manufacturing",
         "0.07611484468116146",
         "0.346867350765098"
        ],
        [
         "11",
         "313",
         "Textile Mills",
         "0.052551902331977325",
         "0.3626262769085816"
        ],
        [
         "12",
         "314",
         "Textile Product Mills",
         "0.07357470120281495",
         "0.2946905845123573"
        ],
        [
         "13",
         "315",
         "Apparel Manufacturing",
         "0.09718006550825899",
         "0.26986518402601223"
        ],
        [
         "14",
         "316",
         "Leather and Allied Product Manufacturing",
         "0.051926467734240846",
         "0.25538295194743005"
        ],
        [
         "15",
         "321",
         "Wood Product Manufacturing",
         "0.04989454423065649",
         "0.30693515578351294"
        ],
        [
         "16",
         "322",
         "Paper Manufacturing",
         "0.0645045435646043",
         "0.3589525241752618"
        ],
        [
         "17",
         "323",
         "Printing and Related Support Activities",
         "0.11553137805566666",
         "0.34505258061026084"
        ],
        [
         "18",
         "324",
         "Petroleum and Coal Products Manufacturing",
         "0.1020094534161394",
         "0.45294420166735033"
        ],
        [
         "19",
         "325",
         "Chemical Manufacturing",
         "0.1242784562185315",
         "0.43073485339298395"
        ],
        [
         "20",
         "326",
         "Plastics and Rubber Products Manufacturing",
         "0.06143734140916696",
         "0.33911279787352683"
        ],
        [
         "21",
         "327",
         "Nonmetallic Mineral Product Manufacturing",
         "0.05921563857979276",
         "0.379889028835777"
        ],
        [
         "22",
         "331",
         "Primary Metal Manufacturing",
         "0.062029699987015526",
         "0.4047400573585223"
        ],
        [
         "23",
         "332",
         "Fabricated Metal Product Manufacturing",
         "0.07325234536323089",
         "0.34702071621482655"
        ],
        [
         "24",
         "333",
         "Machinery Manufacturing",
         "0.11208994979192347",
         "0.3433281561865693"
        ],
        [
         "25",
         "334",
         "Computer and Electronic Product Manufacturing",
         "0.21919472970507692",
         "0.337049527939044"
        ],
        [
         "26",
         "335",
         "Electrical Equipment, Appliance, and Component Manufacturing",
         "0.11814309071773071",
         "0.2795788803425477"
        ],
        [
         "27",
         "336",
         "Transportation Equipment Manufacturing",
         "0.0929828205495182",
         "0.3169718339404444"
        ],
        [
         "28",
         "337",
         "Furniture and Related Product Manufacturing",
         "0.07094092542822764",
         "0.3329299007573881"
        ],
        [
         "29",
         "339",
         "Miscellaneous Manufacturing",
         "0.12003939549526409",
         "0.31682375625023046"
        ],
        [
         "30",
         "423",
         "Merchant Wholesalers, Durable Goods",
         "0.21578821193040165",
         "0.34937776959275324"
        ],
        [
         "31",
         "424",
         "Merchant Wholesalers, Nondurable Goods",
         "0.18305923360292356",
         "0.3316497438592023"
        ],
        [
         "32",
         "425",
         "Wholesale Trade Agents and Brokers",
         "0.32894189871563373",
         "0.3360789231423514"
        ],
        [
         "33",
         "441",
         "Motor Vehicle and Parts Dealers",
         "0.07395115410512192",
         "0.358792007300688"
        ],
        [
         "34",
         "444",
         "Building Material and Garden Equipment and Supplies Dealers",
         "0.054807945616546436",
         "0.2886177641888303"
        ],
        [
         "35",
         "445",
         "Food and Beverage Retailers",
         "0.02849895330316158",
         "0.22491775670237862"
        ],
        [
         "36",
         "449",
         "Furniture, Home Furnishings, Electronics, and Appliance Retailers",
         "0.07888104555843611",
         "0.2879129317146972"
        ],
        [
         "37",
         "455",
         "General Merchandise Retailers",
         "0.04694595278672407",
         "0.2799978006627601"
        ],
        [
         "38",
         "456",
         "Health and Personal Care Retailers",
         "0.051302162317842605",
         "0.33634968107411456"
        ],
        [
         "39",
         "457",
         "Gasoline Stations and Fuel Dealers",
         "0.02550981129492328",
         "0.2237426403622456"
        ],
        [
         "40",
         "458",
         "Clothing, Clothing Accessories, Shoe, and Jewelry Retailers",
         "0.05311942712638794",
         "0.29444290330040596"
        ],
        [
         "41",
         "459",
         "Sporting Goods, Hobby, Musical Instrument, Book, and Miscellaneous Retailers",
         "0.06722712353465508",
         "0.2873224729428662"
        ],
        [
         "42",
         "481",
         "Air Transportation",
         "0.045106518392270895",
         "0.4977870619077461"
        ],
        [
         "43",
         "482",
         "Rail Transportation",
         "0.04246797231626197",
         "0.47909942551907336"
        ],
        [
         "44",
         "483",
         "Water Transportation",
         "0.11702629117881357",
         "0.46885628604424573"
        ],
        [
         "45",
         "484",
         "Truck Transportation",
         "0.04347952235696796",
         "0.4068115078448271"
        ],
        [
         "46",
         "485",
         "Transit and Ground Passenger Transportation",
         "0.02874595368336119",
         "0.1233190138845196"
        ],
        [
         "47",
         "486",
         "Pipeline Transportation",
         "0.1185081031423773",
         "0.4767132383862533"
        ],
        [
         "48",
         "487",
         "Scenic and Sightseeing Transportation",
         "0.052011476651481356",
         "0.3546113515615489"
        ],
        [
         "49",
         "488",
         "Support Activities for Transportation",
         "0.1104175576671495",
         "0.3649583454486014"
        ]
       ],
       "shape": {
        "columns": 4,
        "rows": 85
       }
      },
      "text/html": [
       "<div>\n",
       "<style scoped>\n",
       "    .dataframe tbody tr th:only-of-type {\n",
       "        vertical-align: middle;\n",
       "    }\n",
       "\n",
       "    .dataframe tbody tr th {\n",
       "        vertical-align: top;\n",
       "    }\n",
       "\n",
       "    .dataframe thead th {\n",
       "        text-align: right;\n",
       "    }\n",
       "</style>\n",
       "<table border=\"1\" class=\"dataframe\">\n",
       "  <thead>\n",
       "    <tr style=\"text-align: right;\">\n",
       "      <th></th>\n",
       "      <th>NAICS</th>\n",
       "      <th>NAICS_TITLE</th>\n",
       "      <th>TELE</th>\n",
       "      <th>SKILL</th>\n",
       "    </tr>\n",
       "  </thead>\n",
       "  <tbody>\n",
       "    <tr>\n",
       "      <th>0</th>\n",
       "      <td>113</td>\n",
       "      <td>Forestry and Logging</td>\n",
       "      <td>0.024382</td>\n",
       "      <td>0.406415</td>\n",
       "    </tr>\n",
       "    <tr>\n",
       "      <th>1</th>\n",
       "      <td>115</td>\n",
       "      <td>Support Activities for Agriculture and Forestry</td>\n",
       "      <td>0.023704</td>\n",
       "      <td>0.372206</td>\n",
       "    </tr>\n",
       "    <tr>\n",
       "      <th>2</th>\n",
       "      <td>211</td>\n",
       "      <td>Oil and Gas Extraction</td>\n",
       "      <td>0.188411</td>\n",
       "      <td>0.448634</td>\n",
       "    </tr>\n",
       "    <tr>\n",
       "      <th>3</th>\n",
       "      <td>212</td>\n",
       "      <td>Mining (except Oil and Gas)</td>\n",
       "      <td>0.044960</td>\n",
       "      <td>0.454341</td>\n",
       "    </tr>\n",
       "    <tr>\n",
       "      <th>4</th>\n",
       "      <td>213</td>\n",
       "      <td>Support Activities for Mining</td>\n",
       "      <td>0.071500</td>\n",
       "      <td>0.445086</td>\n",
       "    </tr>\n",
       "    <tr>\n",
       "      <th>...</th>\n",
       "      <td>...</td>\n",
       "      <td>...</td>\n",
       "      <td>...</td>\n",
       "      <td>...</td>\n",
       "    </tr>\n",
       "    <tr>\n",
       "      <th>80</th>\n",
       "      <td>722</td>\n",
       "      <td>Food Services and Drinking Places</td>\n",
       "      <td>0.009778</td>\n",
       "      <td>0.232739</td>\n",
       "    </tr>\n",
       "    <tr>\n",
       "      <th>81</th>\n",
       "      <td>811</td>\n",
       "      <td>Repair and Maintenance</td>\n",
       "      <td>0.061820</td>\n",
       "      <td>0.389858</td>\n",
       "    </tr>\n",
       "    <tr>\n",
       "      <th>82</th>\n",
       "      <td>812</td>\n",
       "      <td>Personal and Laundry Services</td>\n",
       "      <td>0.037584</td>\n",
       "      <td>0.250261</td>\n",
       "    </tr>\n",
       "    <tr>\n",
       "      <th>83</th>\n",
       "      <td>813</td>\n",
       "      <td>Religious, Grantmaking, Civic, Professional, a...</td>\n",
       "      <td>0.219323</td>\n",
       "      <td>0.351202</td>\n",
       "    </tr>\n",
       "    <tr>\n",
       "      <th>84</th>\n",
       "      <td>999</td>\n",
       "      <td>Federal, State, and Local Government, excludin...</td>\n",
       "      <td>0.164932</td>\n",
       "      <td>0.418755</td>\n",
       "    </tr>\n",
       "  </tbody>\n",
       "</table>\n",
       "<p>85 rows × 4 columns</p>\n",
       "</div>"
      ],
      "text/plain": [
       "   NAICS                                        NAICS_TITLE      TELE     SKILL\n",
       "0    113                               Forestry and Logging  0.024382  0.406415\n",
       "1    115    Support Activities for Agriculture and Forestry  0.023704  0.372206\n",
       "2    211                             Oil and Gas Extraction  0.188411  0.448634\n",
       "3    212                        Mining (except Oil and Gas)  0.044960  0.454341\n",
       "4    213                      Support Activities for Mining  0.071500  0.445086\n",
       "..   ...                                                ...       ...       ...\n",
       "80   722                  Food Services and Drinking Places  0.009778  0.232739\n",
       "81   811                             Repair and Maintenance  0.061820  0.389858\n",
       "82   812                      Personal and Laundry Services  0.037584  0.250261\n",
       "83   813  Religious, Grantmaking, Civic, Professional, a...  0.219323  0.351202\n",
       "84   999  Federal, State, and Local Government, excludin...  0.164932  0.418755\n",
       "\n",
       "[85 rows x 4 columns]"
      ]
     },
     "execution_count": 49,
     "metadata": {},
     "output_type": "execute_result"
    }
   ],
   "source": [
    "# Create a dictionary mapping each occupation to its remote work estimate\n",
    "wfh_map = wfh_share_estimation_occ[['ESTIMATE_WFH_ABLE', 'SKILL_INDEX']].to_dict()\n",
    "\n",
    "\n",
    "# Determine which occupation columns in the wide DataFrame are in the mapping\n",
    "common_occ = list( set(bls_ind_3d_wide.columns).intersection(wfh_map['ESTIMATE_WFH_ABLE'].keys()) )\n",
    "\n",
    "# # Create a copy and multiply each matching column by its corresponding weight\n",
    "bls_ind_3d_wide_weighted_remote = bls_ind_3d_wide.copy()\n",
    "bls_ind_3d_wide_weighted_skill = bls_ind_3d_wide.copy()\n",
    "for occ in bls_ind_3d_wide_weighted.columns:\n",
    "    if occ in common_occ:\n",
    "        # Weight the occupation column by the remote work estimate and skill index\n",
    "        bls_ind_3d_wide_weighted_remote[occ] = bls_ind_3d_wide_weighted_remote[occ] * wfh_map['ESTIMATE_WFH_ABLE'][occ]\n",
    "        bls_ind_3d_wide_weighted_skill[occ] = bls_ind_3d_wide_weighted_skill[occ] * wfh_map['SKILL_INDEX'][occ]\n",
    "    else:\n",
    "        # Set the column to zero if it is not in the mapping\n",
    "        bls_ind_3d_wide_weighted_remote[occ] = 0\n",
    "        bls_ind_3d_wide_weighted_skill[occ] = 0\n",
    "\n",
    "# Create the industry-level remote work and skill index measures\n",
    "ind_3_tele = bls_ind_3d_wide_weighted_remote.sum(axis=1).to_frame().reset_index().rename(columns={0: \"TELE\"})\n",
    "ind_3_skill = bls_ind_3d_wide_weighted_skill.sum(axis=1).to_frame().reset_index().rename(columns={0: \"SKILL\"})\n",
    "\n",
    "ind_3 = ind_3_tele.merge(ind_3_skill, on=[\"NAICS\",'NAICS_TITLE'], how=\"inner\")\n",
    "ind_3"
   ]
  },
  {
   "cell_type": "code",
   "execution_count": 50,
   "metadata": {},
   "outputs": [],
   "source": [
    "data = productivity_3d[\n",
    "    [\"Sector\", \"Year\", \"NAICS\", \"sectoral_output_millions\", \"hours_worked_millions\", \"sectoral_output_price_deflator_index\", \"employment_thousands\"]\n",
    "    ].rename(columns=lambda x : x.upper()).merge(\n",
    "        ind_3, on=\"NAICS\", how=\"left\"\n",
    "    ).merge(\n",
    "        wfh_rates_3d[[\"YEAR\",\t\"NAICS\", \"WFH_INDEX\"]], on=[\"YEAR\", \"NAICS\"], how=\"inner\"\n",
    "    ).rename(columns={\"WFH_INDEX\": \"ALPHA\"}).copy()\n",
    "data[\"OUTPUT\"] = ( data[\"SECTORAL_OUTPUT_MILLIONS\"] / data[\"HOURS_WORKED_MILLIONS\"] ) / data[\"SECTORAL_OUTPUT_PRICE_DEFLATOR_INDEX\"] \n",
    "data[\"LOG_SKILL\"] = np.log(data[\"SKILL\"])"
   ]
  },
  {
   "cell_type": "code",
   "execution_count": 51,
   "metadata": {},
   "outputs": [
    {
     "data": {
      "text/html": [
       "<table class=\"simpletable\">\n",
       "<tr>\n",
       "                       <td></td>                          <th>No FE</th>   <th>No FE (No Intercept)</th>   <th>Year FE</th>  <th>Year FE (No Intercept)</th>  <th>Sector FE</th> <th>Sector FE (No Intercept)</th>\n",
       "</tr>\n",
       "<tr>\n",
       "  <th>Intercept</th>                                    <td>16.739***</td>           <td></td>            <td>16.291***</td>            <td></td>             <td>43.272***</td>             <td></td>            \n",
       "</tr>\n",
       "<tr>\n",
       "  <th></th>                                              <td>(6.151)</td>            <td></td>             <td>(6.245)</td>             <td></td>             <td>(11.574)</td>              <td></td>            \n",
       "</tr>\n",
       "<tr>\n",
       "  <th>SKILL</th>                                        <td>25.708***</td>       <td>23.910***</td>       <td>26.279***</td>        <td>26.279***</td>        <td>37.024***</td>         <td>31.329***</td>       \n",
       "</tr>\n",
       "<tr>\n",
       "  <th></th>                                              <td>(4.345)</td>         <td>(3.704)</td>         <td>(4.533)</td>          <td>(4.533)</td>          <td>(7.439)</td>           <td>(7.335)</td>        \n",
       "</tr>\n",
       "<tr>\n",
       "  <th>ALPHA:SKILL</th>                                  <td>-37.564**</td>       <td>-34.714**</td>       <td>-53.873**</td>        <td>-53.873**</td>         <td>-29.745</td>         <td>-49.126***</td>       \n",
       "</tr>\n",
       "<tr>\n",
       "  <th></th>                                             <td>(17.131)</td>        <td>(16.605)</td>        <td>(25.035)</td>         <td>(25.035)</td>         <td>(18.336)</td>          <td>(17.647)</td>        \n",
       "</tr>\n",
       "<tr>\n",
       "  <th>TELE:ALPHA:SKILL</th>                            <td>315.199***</td>      <td>286.139***</td>      <td>356.831***</td>       <td>356.831***</td>        <td>176.199**</td>        <td>2094.673***</td>      \n",
       "</tr>\n",
       "<tr>\n",
       "  <th></th>                                             <td>(73.476)</td>        <td>(69.150)</td>        <td>(96.784)</td>         <td>(96.784)</td>         <td>(79.352)</td>          <td>(547.804)</td>       \n",
       "</tr>\n",
       "<tr>\n",
       "  <th>SKILL:LOG_SKILL</th>                              <td>64.152***</td>       <td>15.974***</td>       <td>63.632***</td>        <td>63.632***</td>       <td>149.791***</td>        <td>141.109***</td>       \n",
       "</tr>\n",
       "<tr>\n",
       "  <th></th>                                             <td>(20.580)</td>         <td>(3.107)</td>        <td>(20.891)</td>         <td>(20.891)</td>         <td>(38.729)</td>          <td>(37.378)</td>        \n",
       "</tr>\n",
       "<tr>\n",
       "  <th>C(YEAR)[T.2014]</th>                                  <td></td>                <td></td>              <td>0.044</td>              <td></td>                 <td></td>                  <td></td>            \n",
       "</tr>\n",
       "<tr>\n",
       "  <th></th>                                                 <td></td>                <td></td>             <td>(0.655)</td>             <td></td>                 <td></td>                  <td></td>            \n",
       "</tr>\n",
       "<tr>\n",
       "  <th>C(YEAR)[T.2015]</th>                                  <td></td>                <td></td>              <td>0.076</td>              <td></td>                 <td></td>                  <td></td>            \n",
       "</tr>\n",
       "<tr>\n",
       "  <th></th>                                                 <td></td>                <td></td>             <td>(0.666)</td>             <td></td>                 <td></td>                  <td></td>            \n",
       "</tr>\n",
       "<tr>\n",
       "  <th>C(YEAR)[T.2016]</th>                                  <td></td>                <td></td>              <td>0.100</td>              <td></td>                 <td></td>                  <td></td>            \n",
       "</tr>\n",
       "<tr>\n",
       "  <th></th>                                                 <td></td>                <td></td>             <td>(0.670)</td>             <td></td>                 <td></td>                  <td></td>            \n",
       "</tr>\n",
       "<tr>\n",
       "  <th>C(YEAR)[T.2017]</th>                                  <td></td>                <td></td>              <td>0.154</td>              <td></td>                 <td></td>                  <td></td>            \n",
       "</tr>\n",
       "<tr>\n",
       "  <th></th>                                                 <td></td>                <td></td>             <td>(0.673)</td>             <td></td>                 <td></td>                  <td></td>            \n",
       "</tr>\n",
       "<tr>\n",
       "  <th>C(YEAR)[T.2018]</th>                                  <td></td>                <td></td>              <td>0.185</td>              <td></td>                 <td></td>                  <td></td>            \n",
       "</tr>\n",
       "<tr>\n",
       "  <th></th>                                                 <td></td>                <td></td>             <td>(0.673)</td>             <td></td>                 <td></td>                  <td></td>            \n",
       "</tr>\n",
       "<tr>\n",
       "  <th>C(YEAR)[T.2019]</th>                                  <td></td>                <td></td>              <td>0.187</td>              <td></td>                 <td></td>                  <td></td>            \n",
       "</tr>\n",
       "<tr>\n",
       "  <th></th>                                                 <td></td>                <td></td>             <td>(0.662)</td>             <td></td>                 <td></td>                  <td></td>            \n",
       "</tr>\n",
       "<tr>\n",
       "  <th>C(YEAR)[T.2020]</th>                                  <td></td>                <td></td>              <td>0.446</td>              <td></td>                 <td></td>                  <td></td>            \n",
       "</tr>\n",
       "<tr>\n",
       "  <th></th>                                                 <td></td>                <td></td>             <td>(0.672)</td>             <td></td>                 <td></td>                  <td></td>            \n",
       "</tr>\n",
       "<tr>\n",
       "  <th>C(YEAR)[T.2021]</th>                                  <td></td>                <td></td>              <td>0.645</td>              <td></td>                 <td></td>                  <td></td>            \n",
       "</tr>\n",
       "<tr>\n",
       "  <th></th>                                                 <td></td>                <td></td>             <td>(0.708)</td>             <td></td>                 <td></td>                  <td></td>            \n",
       "</tr>\n",
       "<tr>\n",
       "  <th>C(YEAR)[T.2022]</th>                                  <td></td>                <td></td>              <td>0.514</td>              <td></td>                 <td></td>                  <td></td>            \n",
       "</tr>\n",
       "<tr>\n",
       "  <th></th>                                                 <td></td>                <td></td>             <td>(0.752)</td>             <td></td>                 <td></td>                  <td></td>            \n",
       "</tr>\n",
       "<tr>\n",
       "  <th>C(YEAR)[T.2023]</th>                                  <td></td>                <td></td>              <td>0.476</td>              <td></td>                 <td></td>                  <td></td>            \n",
       "</tr>\n",
       "<tr>\n",
       "  <th></th>                                                 <td></td>                <td></td>             <td>(0.741)</td>             <td></td>                 <td></td>                  <td></td>            \n",
       "</tr>\n",
       "<tr>\n",
       "  <th>C(YEAR)[2013]</th>                                    <td></td>                <td></td>                <td></td>             <td>16.291***</td>            <td></td>                  <td></td>            \n",
       "</tr>\n",
       "<tr>\n",
       "  <th></th>                                                 <td></td>                <td></td>                <td></td>              <td>(6.245)</td>             <td></td>                  <td></td>            \n",
       "</tr>\n",
       "<tr>\n",
       "  <th>C(YEAR)[2014]</th>                                    <td></td>                <td></td>                <td></td>             <td>16.335***</td>            <td></td>                  <td></td>            \n",
       "</tr>\n",
       "<tr>\n",
       "  <th></th>                                                 <td></td>                <td></td>                <td></td>              <td>(6.250)</td>             <td></td>                  <td></td>            \n",
       "</tr>\n",
       "<tr>\n",
       "  <th>C(YEAR)[2015]</th>                                    <td></td>                <td></td>                <td></td>             <td>16.366***</td>            <td></td>                  <td></td>            \n",
       "</tr>\n",
       "<tr>\n",
       "  <th></th>                                                 <td></td>                <td></td>                <td></td>              <td>(6.258)</td>             <td></td>                  <td></td>            \n",
       "</tr>\n",
       "<tr>\n",
       "  <th>C(YEAR)[2016]</th>                                    <td></td>                <td></td>                <td></td>             <td>16.390***</td>            <td></td>                  <td></td>            \n",
       "</tr>\n",
       "<tr>\n",
       "  <th></th>                                                 <td></td>                <td></td>                <td></td>              <td>(6.261)</td>             <td></td>                  <td></td>            \n",
       "</tr>\n",
       "<tr>\n",
       "  <th>C(YEAR)[2017]</th>                                    <td></td>                <td></td>                <td></td>             <td>16.445***</td>            <td></td>                  <td></td>            \n",
       "</tr>\n",
       "<tr>\n",
       "  <th></th>                                                 <td></td>                <td></td>                <td></td>              <td>(6.261)</td>             <td></td>                  <td></td>            \n",
       "</tr>\n",
       "<tr>\n",
       "  <th>C(YEAR)[2018]</th>                                    <td></td>                <td></td>                <td></td>             <td>16.476***</td>            <td></td>                  <td></td>            \n",
       "</tr>\n",
       "<tr>\n",
       "  <th></th>                                                 <td></td>                <td></td>                <td></td>              <td>(6.259)</td>             <td></td>                  <td></td>            \n",
       "</tr>\n",
       "<tr>\n",
       "  <th>C(YEAR)[2019]</th>                                    <td></td>                <td></td>                <td></td>             <td>16.477***</td>            <td></td>                  <td></td>            \n",
       "</tr>\n",
       "<tr>\n",
       "  <th></th>                                                 <td></td>                <td></td>                <td></td>              <td>(6.257)</td>             <td></td>                  <td></td>            \n",
       "</tr>\n",
       "<tr>\n",
       "  <th>C(YEAR)[2020]</th>                                    <td></td>                <td></td>                <td></td>             <td>16.737***</td>            <td></td>                  <td></td>            \n",
       "</tr>\n",
       "<tr>\n",
       "  <th></th>                                                 <td></td>                <td></td>                <td></td>              <td>(6.257)</td>             <td></td>                  <td></td>            \n",
       "</tr>\n",
       "<tr>\n",
       "  <th>C(YEAR)[2021]</th>                                    <td></td>                <td></td>                <td></td>             <td>16.936***</td>            <td></td>                  <td></td>            \n",
       "</tr>\n",
       "<tr>\n",
       "  <th></th>                                                 <td></td>                <td></td>                <td></td>              <td>(6.274)</td>             <td></td>                  <td></td>            \n",
       "</tr>\n",
       "<tr>\n",
       "  <th>C(YEAR)[2022]</th>                                    <td></td>                <td></td>                <td></td>             <td>16.805***</td>            <td></td>                  <td></td>            \n",
       "</tr>\n",
       "<tr>\n",
       "  <th></th>                                                 <td></td>                <td></td>                <td></td>              <td>(6.270)</td>             <td></td>                  <td></td>            \n",
       "</tr>\n",
       "<tr>\n",
       "  <th>C(YEAR)[2023]</th>                                    <td></td>                <td></td>                <td></td>             <td>16.767***</td>            <td></td>                  <td></td>            \n",
       "</tr>\n",
       "<tr>\n",
       "  <th></th>                                                 <td></td>                <td></td>                <td></td>              <td>(6.288)</td>             <td></td>                  <td></td>            \n",
       "</tr>\n",
       "<tr>\n",
       "  <th>C(SECTOR)[T.Manufacturing]</th>                       <td></td>                <td></td>                <td></td>                 <td></td>             <td>1.198***</td>              <td></td>            \n",
       "</tr>\n",
       "<tr>\n",
       "  <th></th>                                                 <td></td>                <td></td>                <td></td>                 <td></td>              <td>(0.315)</td>              <td></td>            \n",
       "</tr>\n",
       "<tr>\n",
       "  <th>C(SECTOR)[T.Mining]</th>                              <td></td>                <td></td>                <td></td>                 <td></td>              <td>-1.857</td>               <td></td>            \n",
       "</tr>\n",
       "<tr>\n",
       "  <th></th>                                                 <td></td>                <td></td>                <td></td>                 <td></td>              <td>(1.138)</td>              <td></td>            \n",
       "</tr>\n",
       "<tr>\n",
       "  <th>C(SECTOR)[T.Retail Trade]</th>                        <td></td>                <td></td>                <td></td>                 <td></td>             <td>1.195***</td>              <td></td>            \n",
       "</tr>\n",
       "<tr>\n",
       "  <th></th>                                                 <td></td>                <td></td>                <td></td>                 <td></td>              <td>(0.207)</td>              <td></td>            \n",
       "</tr>\n",
       "<tr>\n",
       "  <th>C(SECTOR)[T.Transportation and Warehousing]</th>      <td></td>                <td></td>                <td></td>                 <td></td>             <td>-1.918***</td>             <td></td>            \n",
       "</tr>\n",
       "<tr>\n",
       "  <th></th>                                                 <td></td>                <td></td>                <td></td>                 <td></td>              <td>(0.451)</td>              <td></td>            \n",
       "</tr>\n",
       "<tr>\n",
       "  <th>C(SECTOR)[T.Utilities]</th>                           <td></td>                <td></td>                <td></td>                 <td></td>              <td>-1.143</td>               <td></td>            \n",
       "</tr>\n",
       "<tr>\n",
       "  <th></th>                                                 <td></td>                <td></td>                <td></td>                 <td></td>              <td>(0.961)</td>              <td></td>            \n",
       "</tr>\n",
       "<tr>\n",
       "  <th>C(SECTOR)[T.Wholesale Trade]</th>                     <td></td>                <td></td>                <td></td>                 <td></td>             <td>3.415***</td>              <td></td>            \n",
       "</tr>\n",
       "<tr>\n",
       "  <th></th>                                                 <td></td>                <td></td>                <td></td>                 <td></td>              <td>(0.452)</td>              <td></td>            \n",
       "</tr>\n",
       "<tr>\n",
       "  <th>C(SECTOR)[Accommodation and Food Services]</th>       <td></td>                <td></td>                <td></td>                 <td></td>                 <td></td>              <td>41.954***</td>       \n",
       "</tr>\n",
       "<tr>\n",
       "  <th></th>                                                 <td></td>                <td></td>                <td></td>                 <td></td>                 <td></td>              <td>(11.172)</td>        \n",
       "</tr>\n",
       "<tr>\n",
       "  <th>C(SECTOR)[Manufacturing]</th>                         <td></td>                <td></td>                <td></td>                 <td></td>                 <td></td>              <td>43.530***</td>       \n",
       "</tr>\n",
       "<tr>\n",
       "  <th></th>                                                 <td></td>                <td></td>                <td></td>                 <td></td>                 <td></td>              <td>(11.435)</td>        \n",
       "</tr>\n",
       "<tr>\n",
       "  <th>C(SECTOR)[Mining]</th>                                <td></td>                <td></td>                <td></td>                 <td></td>                 <td></td>              <td>40.262***</td>       \n",
       "</tr>\n",
       "<tr>\n",
       "  <th></th>                                                 <td></td>                <td></td>                <td></td>                 <td></td>                 <td></td>              <td>(10.374)</td>        \n",
       "</tr>\n",
       "<tr>\n",
       "  <th>C(SECTOR)[Retail Trade]</th>                          <td></td>                <td></td>                <td></td>                 <td></td>                 <td></td>              <td>43.292***</td>       \n",
       "</tr>\n",
       "<tr>\n",
       "  <th></th>                                                 <td></td>                <td></td>                <td></td>                 <td></td>                 <td></td>              <td>(11.253)</td>        \n",
       "</tr>\n",
       "<tr>\n",
       "  <th>C(SECTOR)[Transportation and Warehousing]</th>        <td></td>                <td></td>                <td></td>                 <td></td>                 <td></td>              <td>40.349***</td>       \n",
       "</tr>\n",
       "<tr>\n",
       "  <th></th>                                                 <td></td>                <td></td>                <td></td>                 <td></td>                 <td></td>              <td>(11.036)</td>        \n",
       "</tr>\n",
       "<tr>\n",
       "  <th>C(SECTOR)[Utilities]</th>                             <td></td>                <td></td>                <td></td>                 <td></td>                 <td></td>              <td>39.982***</td>       \n",
       "</tr>\n",
       "<tr>\n",
       "  <th></th>                                                 <td></td>                <td></td>                <td></td>                 <td></td>                 <td></td>              <td>(10.354)</td>        \n",
       "</tr>\n",
       "<tr>\n",
       "  <th>C(SECTOR)[Wholesale Trade]</th>                       <td></td>                <td></td>                <td></td>                 <td></td>                 <td></td>              <td>45.960***</td>       \n",
       "</tr>\n",
       "<tr>\n",
       "  <th></th>                                                 <td></td>                <td></td>                <td></td>                 <td></td>                 <td></td>              <td>(11.358)</td>        \n",
       "</tr>\n",
       "<tr>\n",
       "  <th>TELE:ALPHA</th>                                       <td></td>                <td></td>                <td></td>                 <td></td>                 <td></td>             <td>-643.721***</td>      \n",
       "</tr>\n",
       "<tr>\n",
       "  <th></th>                                                 <td></td>                <td></td>                <td></td>                 <td></td>                 <td></td>              <td>(185.337)</td>       \n",
       "</tr>\n",
       "<tr>\n",
       "  <th>R-squared</th>                                      <td>0.263</td>           <td>0.510</td>           <td>0.265</td>            <td>0.265</td>            <td>0.378</td>             <td>0.413</td>         \n",
       "</tr>\n",
       "<tr>\n",
       "  <th>R-squared Adj.</th>                                 <td>0.256</td>           <td>0.506</td>           <td>0.239</td>            <td>0.239</td>            <td>0.363</td>             <td>0.397</td>         \n",
       "</tr>\n",
       "<tr>\n",
       "  <th>N</th>                                               <td>418</td>             <td>418</td>             <td>418</td>              <td>418</td>              <td>418</td>               <td>418</td>          \n",
       "</tr>\n",
       "<tr>\n",
       "  <th>R-squared</th>                                      <td>0.263</td>           <td>0.510</td>           <td>0.265</td>            <td>0.265</td>            <td>0.378</td>             <td>0.413</td>         \n",
       "</tr>\n",
       "</table><br/>\n",
       "Standard errors in parentheses.<br/>\n",
       "* p<.1, ** p<.05, ***p<.01"
      ],
      "text/latex": [
       "\\begin{table}\n",
       "\\caption{}\n",
       "\\label{}\n",
       "\\begin{center}\n",
       "\\begin{tabular}{lllllll}\n",
       "\\hline\n",
       "                                            & No FE      & No FE (No Intercept) & Year FE    & Year FE (No Intercept) & Sector FE  & Sector FE (No Intercept)  \\\\\n",
       "\\hline\n",
       "Intercept                                   & 16.739***  &                      & 16.291***  &                        & 43.272***  &                           \\\\\n",
       "                                            & (6.151)    &                      & (6.245)    &                        & (11.574)   &                           \\\\\n",
       "SKILL                                       & 25.708***  & 23.910***            & 26.279***  & 26.279***              & 37.024***  & 31.329***                 \\\\\n",
       "                                            & (4.345)    & (3.704)              & (4.533)    & (4.533)                & (7.439)    & (7.335)                   \\\\\n",
       "ALPHA:SKILL                                 & -37.564**  & -34.714**            & -53.873**  & -53.873**              & -29.745    & -49.126***                \\\\\n",
       "                                            & (17.131)   & (16.605)             & (25.035)   & (25.035)               & (18.336)   & (17.647)                  \\\\\n",
       "TELE:ALPHA:SKILL                            & 315.199*** & 286.139***           & 356.831*** & 356.831***             & 176.199**  & 2094.673***               \\\\\n",
       "                                            & (73.476)   & (69.150)             & (96.784)   & (96.784)               & (79.352)   & (547.804)                 \\\\\n",
       "SKILL:LOG\\_SKILL                            & 64.152***  & 15.974***            & 63.632***  & 63.632***              & 149.791*** & 141.109***                \\\\\n",
       "                                            & (20.580)   & (3.107)              & (20.891)   & (20.891)               & (38.729)   & (37.378)                  \\\\\n",
       "C(YEAR)[T.2014]                             &            &                      & 0.044      &                        &            &                           \\\\\n",
       "                                            &            &                      & (0.655)    &                        &            &                           \\\\\n",
       "C(YEAR)[T.2015]                             &            &                      & 0.076      &                        &            &                           \\\\\n",
       "                                            &            &                      & (0.666)    &                        &            &                           \\\\\n",
       "C(YEAR)[T.2016]                             &            &                      & 0.100      &                        &            &                           \\\\\n",
       "                                            &            &                      & (0.670)    &                        &            &                           \\\\\n",
       "C(YEAR)[T.2017]                             &            &                      & 0.154      &                        &            &                           \\\\\n",
       "                                            &            &                      & (0.673)    &                        &            &                           \\\\\n",
       "C(YEAR)[T.2018]                             &            &                      & 0.185      &                        &            &                           \\\\\n",
       "                                            &            &                      & (0.673)    &                        &            &                           \\\\\n",
       "C(YEAR)[T.2019]                             &            &                      & 0.187      &                        &            &                           \\\\\n",
       "                                            &            &                      & (0.662)    &                        &            &                           \\\\\n",
       "C(YEAR)[T.2020]                             &            &                      & 0.446      &                        &            &                           \\\\\n",
       "                                            &            &                      & (0.672)    &                        &            &                           \\\\\n",
       "C(YEAR)[T.2021]                             &            &                      & 0.645      &                        &            &                           \\\\\n",
       "                                            &            &                      & (0.708)    &                        &            &                           \\\\\n",
       "C(YEAR)[T.2022]                             &            &                      & 0.514      &                        &            &                           \\\\\n",
       "                                            &            &                      & (0.752)    &                        &            &                           \\\\\n",
       "C(YEAR)[T.2023]                             &            &                      & 0.476      &                        &            &                           \\\\\n",
       "                                            &            &                      & (0.741)    &                        &            &                           \\\\\n",
       "C(YEAR)[2013]                               &            &                      &            & 16.291***              &            &                           \\\\\n",
       "                                            &            &                      &            & (6.245)                &            &                           \\\\\n",
       "C(YEAR)[2014]                               &            &                      &            & 16.335***              &            &                           \\\\\n",
       "                                            &            &                      &            & (6.250)                &            &                           \\\\\n",
       "C(YEAR)[2015]                               &            &                      &            & 16.366***              &            &                           \\\\\n",
       "                                            &            &                      &            & (6.258)                &            &                           \\\\\n",
       "C(YEAR)[2016]                               &            &                      &            & 16.390***              &            &                           \\\\\n",
       "                                            &            &                      &            & (6.261)                &            &                           \\\\\n",
       "C(YEAR)[2017]                               &            &                      &            & 16.445***              &            &                           \\\\\n",
       "                                            &            &                      &            & (6.261)                &            &                           \\\\\n",
       "C(YEAR)[2018]                               &            &                      &            & 16.476***              &            &                           \\\\\n",
       "                                            &            &                      &            & (6.259)                &            &                           \\\\\n",
       "C(YEAR)[2019]                               &            &                      &            & 16.477***              &            &                           \\\\\n",
       "                                            &            &                      &            & (6.257)                &            &                           \\\\\n",
       "C(YEAR)[2020]                               &            &                      &            & 16.737***              &            &                           \\\\\n",
       "                                            &            &                      &            & (6.257)                &            &                           \\\\\n",
       "C(YEAR)[2021]                               &            &                      &            & 16.936***              &            &                           \\\\\n",
       "                                            &            &                      &            & (6.274)                &            &                           \\\\\n",
       "C(YEAR)[2022]                               &            &                      &            & 16.805***              &            &                           \\\\\n",
       "                                            &            &                      &            & (6.270)                &            &                           \\\\\n",
       "C(YEAR)[2023]                               &            &                      &            & 16.767***              &            &                           \\\\\n",
       "                                            &            &                      &            & (6.288)                &            &                           \\\\\n",
       "C(SECTOR)[T.Manufacturing]                  &            &                      &            &                        & 1.198***   &                           \\\\\n",
       "                                            &            &                      &            &                        & (0.315)    &                           \\\\\n",
       "C(SECTOR)[T.Mining]                         &            &                      &            &                        & -1.857     &                           \\\\\n",
       "                                            &            &                      &            &                        & (1.138)    &                           \\\\\n",
       "C(SECTOR)[T.Retail Trade]                   &            &                      &            &                        & 1.195***   &                           \\\\\n",
       "                                            &            &                      &            &                        & (0.207)    &                           \\\\\n",
       "C(SECTOR)[T.Transportation and Warehousing] &            &                      &            &                        & -1.918***  &                           \\\\\n",
       "                                            &            &                      &            &                        & (0.451)    &                           \\\\\n",
       "C(SECTOR)[T.Utilities]                      &            &                      &            &                        & -1.143     &                           \\\\\n",
       "                                            &            &                      &            &                        & (0.961)    &                           \\\\\n",
       "C(SECTOR)[T.Wholesale Trade]                &            &                      &            &                        & 3.415***   &                           \\\\\n",
       "                                            &            &                      &            &                        & (0.452)    &                           \\\\\n",
       "C(SECTOR)[Accommodation and Food Services]  &            &                      &            &                        &            & 41.954***                 \\\\\n",
       "                                            &            &                      &            &                        &            & (11.172)                  \\\\\n",
       "C(SECTOR)[Manufacturing]                    &            &                      &            &                        &            & 43.530***                 \\\\\n",
       "                                            &            &                      &            &                        &            & (11.435)                  \\\\\n",
       "C(SECTOR)[Mining]                           &            &                      &            &                        &            & 40.262***                 \\\\\n",
       "                                            &            &                      &            &                        &            & (10.374)                  \\\\\n",
       "C(SECTOR)[Retail Trade]                     &            &                      &            &                        &            & 43.292***                 \\\\\n",
       "                                            &            &                      &            &                        &            & (11.253)                  \\\\\n",
       "C(SECTOR)[Transportation and Warehousing]   &            &                      &            &                        &            & 40.349***                 \\\\\n",
       "                                            &            &                      &            &                        &            & (11.036)                  \\\\\n",
       "C(SECTOR)[Utilities]                        &            &                      &            &                        &            & 39.982***                 \\\\\n",
       "                                            &            &                      &            &                        &            & (10.354)                  \\\\\n",
       "C(SECTOR)[Wholesale Trade]                  &            &                      &            &                        &            & 45.960***                 \\\\\n",
       "                                            &            &                      &            &                        &            & (11.358)                  \\\\\n",
       "TELE:ALPHA                                  &            &                      &            &                        &            & -643.721***               \\\\\n",
       "                                            &            &                      &            &                        &            & (185.337)                 \\\\\n",
       "R-squared                                   & 0.263      & 0.510                & 0.265      & 0.265                  & 0.378      & 0.413                     \\\\\n",
       "R-squared Adj.                              & 0.256      & 0.506                & 0.239      & 0.239                  & 0.363      & 0.397                     \\\\\n",
       "N                                           & 418        & 418                  & 418        & 418                    & 418        & 418                       \\\\\n",
       "R-squared                                   & 0.263      & 0.510                & 0.265      & 0.265                  & 0.378      & 0.413                     \\\\\n",
       "\\hline\n",
       "\\end{tabular}\n",
       "\\end{center}\n",
       "\\end{table}\n",
       "\\bigskip\n",
       "Standard errors in parentheses. \\newline \n",
       "* p<.1, ** p<.05, ***p<.01"
      ],
      "text/plain": [
       "<class 'statsmodels.iolib.summary2.Summary'>\n",
       "\"\"\"\n",
       "\n",
       "=================================================================================================================================================\n",
       "                                              No FE    No FE (No Intercept)  Year FE   Year FE (No Intercept) Sector FE  Sector FE (No Intercept)\n",
       "-------------------------------------------------------------------------------------------------------------------------------------------------\n",
       "Intercept                                   16.739***                       16.291***                         43.272***                          \n",
       "                                            (6.151)                         (6.245)                           (11.574)                           \n",
       "SKILL                                       25.708***  23.910***            26.279***  26.279***              37.024***  31.329***               \n",
       "                                            (4.345)    (3.704)              (4.533)    (4.533)                (7.439)    (7.335)                 \n",
       "ALPHA:SKILL                                 -37.564**  -34.714**            -53.873**  -53.873**              -29.745    -49.126***              \n",
       "                                            (17.131)   (16.605)             (25.035)   (25.035)               (18.336)   (17.647)                \n",
       "TELE:ALPHA:SKILL                            315.199*** 286.139***           356.831*** 356.831***             176.199**  2094.673***             \n",
       "                                            (73.476)   (69.150)             (96.784)   (96.784)               (79.352)   (547.804)               \n",
       "SKILL:LOG_SKILL                             64.152***  15.974***            63.632***  63.632***              149.791*** 141.109***              \n",
       "                                            (20.580)   (3.107)              (20.891)   (20.891)               (38.729)   (37.378)                \n",
       "C(YEAR)[T.2014]                                                             0.044                                                                \n",
       "                                                                            (0.655)                                                              \n",
       "C(YEAR)[T.2015]                                                             0.076                                                                \n",
       "                                                                            (0.666)                                                              \n",
       "C(YEAR)[T.2016]                                                             0.100                                                                \n",
       "                                                                            (0.670)                                                              \n",
       "C(YEAR)[T.2017]                                                             0.154                                                                \n",
       "                                                                            (0.673)                                                              \n",
       "C(YEAR)[T.2018]                                                             0.185                                                                \n",
       "                                                                            (0.673)                                                              \n",
       "C(YEAR)[T.2019]                                                             0.187                                                                \n",
       "                                                                            (0.662)                                                              \n",
       "C(YEAR)[T.2020]                                                             0.446                                                                \n",
       "                                                                            (0.672)                                                              \n",
       "C(YEAR)[T.2021]                                                             0.645                                                                \n",
       "                                                                            (0.708)                                                              \n",
       "C(YEAR)[T.2022]                                                             0.514                                                                \n",
       "                                                                            (0.752)                                                              \n",
       "C(YEAR)[T.2023]                                                             0.476                                                                \n",
       "                                                                            (0.741)                                                              \n",
       "C(YEAR)[2013]                                                                          16.291***                                                 \n",
       "                                                                                       (6.245)                                                   \n",
       "C(YEAR)[2014]                                                                          16.335***                                                 \n",
       "                                                                                       (6.250)                                                   \n",
       "C(YEAR)[2015]                                                                          16.366***                                                 \n",
       "                                                                                       (6.258)                                                   \n",
       "C(YEAR)[2016]                                                                          16.390***                                                 \n",
       "                                                                                       (6.261)                                                   \n",
       "C(YEAR)[2017]                                                                          16.445***                                                 \n",
       "                                                                                       (6.261)                                                   \n",
       "C(YEAR)[2018]                                                                          16.476***                                                 \n",
       "                                                                                       (6.259)                                                   \n",
       "C(YEAR)[2019]                                                                          16.477***                                                 \n",
       "                                                                                       (6.257)                                                   \n",
       "C(YEAR)[2020]                                                                          16.737***                                                 \n",
       "                                                                                       (6.257)                                                   \n",
       "C(YEAR)[2021]                                                                          16.936***                                                 \n",
       "                                                                                       (6.274)                                                   \n",
       "C(YEAR)[2022]                                                                          16.805***                                                 \n",
       "                                                                                       (6.270)                                                   \n",
       "C(YEAR)[2023]                                                                          16.767***                                                 \n",
       "                                                                                       (6.288)                                                   \n",
       "C(SECTOR)[T.Manufacturing]                                                                                    1.198***                           \n",
       "                                                                                                              (0.315)                            \n",
       "C(SECTOR)[T.Mining]                                                                                           -1.857                             \n",
       "                                                                                                              (1.138)                            \n",
       "C(SECTOR)[T.Retail Trade]                                                                                     1.195***                           \n",
       "                                                                                                              (0.207)                            \n",
       "C(SECTOR)[T.Transportation and Warehousing]                                                                   -1.918***                          \n",
       "                                                                                                              (0.451)                            \n",
       "C(SECTOR)[T.Utilities]                                                                                        -1.143                             \n",
       "                                                                                                              (0.961)                            \n",
       "C(SECTOR)[T.Wholesale Trade]                                                                                  3.415***                           \n",
       "                                                                                                              (0.452)                            \n",
       "C(SECTOR)[Accommodation and Food Services]                                                                               41.954***               \n",
       "                                                                                                                         (11.172)                \n",
       "C(SECTOR)[Manufacturing]                                                                                                 43.530***               \n",
       "                                                                                                                         (11.435)                \n",
       "C(SECTOR)[Mining]                                                                                                        40.262***               \n",
       "                                                                                                                         (10.374)                \n",
       "C(SECTOR)[Retail Trade]                                                                                                  43.292***               \n",
       "                                                                                                                         (11.253)                \n",
       "C(SECTOR)[Transportation and Warehousing]                                                                                40.349***               \n",
       "                                                                                                                         (11.036)                \n",
       "C(SECTOR)[Utilities]                                                                                                     39.982***               \n",
       "                                                                                                                         (10.354)                \n",
       "C(SECTOR)[Wholesale Trade]                                                                                               45.960***               \n",
       "                                                                                                                         (11.358)                \n",
       "TELE:ALPHA                                                                                                               -643.721***             \n",
       "                                                                                                                         (185.337)               \n",
       "R-squared                                   0.263      0.510                0.265      0.265                  0.378      0.413                   \n",
       "R-squared Adj.                              0.256      0.506                0.239      0.239                  0.363      0.397                   \n",
       "N                                           418        418                  418        418                    418        418                     \n",
       "R-squared                                   0.263      0.510                0.265      0.265                  0.378      0.413                   \n",
       "=================================================================================================================================================\n",
       "Standard errors in parentheses.\n",
       "* p<.1, ** p<.05, ***p<.01\n",
       "\"\"\""
      ]
     },
     "metadata": {},
     "output_type": "display_data"
    }
   ],
   "source": [
    "# Drop missing values\n",
    "data = data.dropna(subset=[\"TELE\", \"ALPHA\", \"OUTPUT\", \"SKILL\"])\n",
    "data[\"YEAR\"] = data[\"YEAR\"].astype(int)\n",
    "\n",
    "# Define regression formulas\n",
    "formula1 = \"OUTPUT ~ SKILL  + ALPHA:SKILL + TELE:ALPHA:SKILL + SKILL:LOG_SKILL\"\n",
    "formula1_no_intercept = \"OUTPUT ~ SKILL   + ALPHA:SKILL + TELE:ALPHA:SKILL + SKILL:LOG_SKILL - 1\"\n",
    "formula2 = \"OUTPUT ~ SKILL  + ALPHA:SKILL + TELE:ALPHA:SKILL + SKILL:LOG_SKILL + C(YEAR)\"\n",
    "formula2_no_intercept = \"OUTPUT ~ SKILL   + ALPHA:SKILL + TELE:ALPHA:SKILL + SKILL:LOG_SKILL - 1 + C(YEAR)\"\n",
    "formula3 = \"OUTPUT ~ SKILL  + ALPHA:SKILL + TELE:ALPHA:SKILL + SKILL:LOG_SKILL + C(SECTOR)\"\n",
    "formula3_no_intercept = \"OUTPUT ~ SKILL   + ALPHA:SKILL + TELE:ALPHA:SKILL + TELE:ALPHA + SKILL:LOG_SKILL - 1 + C(SECTOR)\"\n",
    "\n",
    "\n",
    "# Fit the model (with and without intercept)\n",
    "model1 = smf.ols(formula=formula1, data=data).fit(cov_type='HC3')\n",
    "model1_no_intercept = smf.ols(formula=formula1_no_intercept, data=data).fit(cov_type='HC3')\n",
    "# Year fixed effects\n",
    "model2 = smf.ols(formula=formula2, data=data).fit(cov_type='HC3')\n",
    "model2_no_intercept = smf.ols(formula=formula2_no_intercept, data=data).fit(cov_type='HC3')\n",
    "# Sector fixed effects\n",
    "model3 = smf.ols(formula=formula3, data=data).fit(cov_type='HC3')\n",
    "model3_no_intercept = smf.ols(formula=formula3_no_intercept, data=data).fit(cov_type='HC3')\n",
    "\n",
    "\n",
    "table = summary_col([model1, model1_no_intercept, model2, model2_no_intercept, model3, model3_no_intercept],\n",
    "                    stars=True,\n",
    "                    float_format=\"%.3f\",\n",
    "                    model_names=[\"No FE\", \"No FE (No Intercept)\", \"Year FE\", \"Year FE (No Intercept)\", \"Sector FE\", \"Sector FE (No Intercept)\"], \n",
    "                    info_dict={'N': lambda x: f\"{int(x.nobs)}\", 'R-squared': lambda x: f\"{x.rsquared:.3f}\"}\n",
    ")\n",
    "\n",
    "display(table)"
   ]
  },
  {
   "cell_type": "code",
   "execution_count": 56,
   "metadata": {},
   "outputs": [
    {
     "name": "stdout",
     "output_type": "stream",
     "text": [
      "\\begin{table}\n",
      "\\caption{}\n",
      "\\label{}\n",
      "\\begin{center}\n",
      "\\begin{tabular}{ll}\n",
      "\\hline\n",
      "                 & No FE       \\\\\n",
      "\\hline\n",
      "Intercept        & 16.739***   \\\\\n",
      "                 & (6.151)     \\\\\n",
      "SKILL            & 25.708***   \\\\\n",
      "                 & (4.345)     \\\\\n",
      "ALPHA:SKILL      & -37.564**   \\\\\n",
      "                 & (17.131)    \\\\\n",
      "TELE:ALPHA:SKILL & 315.199***  \\\\\n",
      "                 & (73.476)    \\\\\n",
      "SKILL:LOG\\_SKILL & 64.152***   \\\\\n",
      "                 & (20.580)    \\\\\n",
      "R-squared        & 0.263       \\\\\n",
      "R-squared Adj.   & 0.256       \\\\\n",
      "N                & 418         \\\\\n",
      "\\$R^2\\$          & 0.263       \\\\\n",
      "\\hline\n",
      "\\end{tabular}\n",
      "\\end{center}\n",
      "\\end{table}\n",
      "\\bigskip\n",
      "Standard errors in parentheses. \\newline \n",
      "* p<.1, ** p<.05, ***p<.01\n"
     ]
    }
   ],
   "source": [
    "print(summary_col([model1],\n",
    "                  stars=True,\n",
    "                  float_format=\"%.3f\",\n",
    "                  model_names=[\"No FE\", \"No FE (No Intercept)\", \"Year FE\", \"Year FE (No Intercept)\", \"Sector FE\", \"Sector FE (No Intercept)\"],\n",
    "                  info_dict={'N': lambda x: f\"{int(x.nobs)}\", '$R^2$': lambda x: f\"{x.rsquared:.3f}\"}\n",
    "                 ).as_latex())"
   ]
  },
  {
   "cell_type": "code",
   "execution_count": 52,
   "metadata": {},
   "outputs": [
    {
     "name": "stdout",
     "output_type": "stream",
     "text": [
      "A: 25.708\n",
      "delta_0: -1.422\n",
      "delta_1: 12.261\n",
      "delta_2: 2.495\n"
     ]
    }
   ],
   "source": [
    "# define model to use\n",
    "model = model1\n",
    "# Obtain the model coefficients\n",
    "beta_0 = model.params[\"SKILL\"]\n",
    "beta_1 = model.params[\"ALPHA:SKILL\"]\n",
    "beta_2 = model.params[\"TELE:ALPHA:SKILL\"]\n",
    "beta_3 = model.params[\"SKILL:LOG_SKILL\"]\n",
    "\n",
    "# Construct the \"other\" coefficient\n",
    "A = beta_0\n",
    "delta_0 = (beta_1 + 1) / A\n",
    "delta_1 = beta_2 / A\n",
    "delta_2 = beta_3 / A\n",
    "print(f\"A: {A:.3f}\")\n",
    "print(f\"delta_0: {delta_0:.3f}\")\n",
    "print(f\"delta_1: {delta_1:.3f}\")\n",
    "print(f\"delta_2: {delta_2:.3f}\")"
   ]
  },
  {
   "cell_type": "code",
   "execution_count": null,
   "metadata": {},
   "outputs": [],
   "source": [
    "# Construct psi = delta_0 + delta_1 * TELE + delta_2 * LOG_SKILL\n",
    "ind_3[\"PSI\"] = delta_0 + delta_1 * ind_3[\"TELE\"] + delta_2 * np.log(ind_3[\"SKILL\"])\n",
    "ind_3 = ind_3.merge(bds_3d.loc[bds_3d.year == 2022, [\"job_creation_births\", \"NAICS\"]], on = \"NAICS\")\n",
    "ind_3[\"JOB_CREATION_BIRTHS\"] = pd.to_numeric(ind_3[\"job_creation_births\"], errors='coerce')\n",
    "ind_3.drop(columns = [\"job_creation_births\"], inplace = True)"
   ]
  },
  {
   "cell_type": "code",
   "execution_count": null,
   "metadata": {},
   "outputs": [
    {
     "data": {
      "application/vnd.microsoft.datawrangler.viewer.v0+json": {
       "columns": [
        {
         "name": "index",
         "rawType": "object",
         "type": "string"
        },
        {
         "name": "TELE",
         "rawType": "float64",
         "type": "float"
        },
        {
         "name": "SKILL",
         "rawType": "float64",
         "type": "float"
        },
        {
         "name": "PSI",
         "rawType": "float64",
         "type": "float"
        },
        {
         "name": "JOB_CREATION_BIRTHS",
         "rawType": "float64",
         "type": "float"
        }
       ],
       "conversionMethod": "pd.DataFrame",
       "ref": "0dde9d7e-2d6a-4b31-a69b-da2ccc22cf81",
       "rows": [
        [
         "count",
         "74.0",
         "74.0",
         "74.0",
         "74.0"
        ],
        [
         "mean",
         "0.12965687700929118",
         "0.34599166432831163",
         "-2.726392141150258",
         "73518.0"
        ],
        [
         "std",
         "0.1109887062753946",
         "0.06860781166420117",
         "1.5754145056415143",
         "142720.10077665525"
        ],
        [
         "min",
         "0.009777938891249623",
         "0.1233190138845196",
         "-6.666112835768569",
         "20.0"
        ],
        [
         "25%",
         "0.052292233748773204",
         "0.3091487422940624",
         "-3.563142321234036",
         "6761.75"
        ],
        [
         "50%",
         "0.08059108689322608",
         "0.34792686819077034",
         "-3.0789756693561623",
         "26139.5"
        ],
        [
         "75%",
         "0.17647341216365162",
         "0.37904064833374673",
         "-1.7930544128367725",
         "84849.75"
        ],
        [
         "max",
         "0.4105267429688346",
         "0.4977870619077461",
         "0.8863903543676539",
         "918022.0"
        ]
       ],
       "shape": {
        "columns": 4,
        "rows": 8
       }
      },
      "text/html": [
       "<div>\n",
       "<style scoped>\n",
       "    .dataframe tbody tr th:only-of-type {\n",
       "        vertical-align: middle;\n",
       "    }\n",
       "\n",
       "    .dataframe tbody tr th {\n",
       "        vertical-align: top;\n",
       "    }\n",
       "\n",
       "    .dataframe thead th {\n",
       "        text-align: right;\n",
       "    }\n",
       "</style>\n",
       "<table border=\"1\" class=\"dataframe\">\n",
       "  <thead>\n",
       "    <tr style=\"text-align: right;\">\n",
       "      <th></th>\n",
       "      <th>TELE</th>\n",
       "      <th>SKILL</th>\n",
       "      <th>PSI</th>\n",
       "      <th>JOB_CREATION_BIRTHS</th>\n",
       "    </tr>\n",
       "  </thead>\n",
       "  <tbody>\n",
       "    <tr>\n",
       "      <th>count</th>\n",
       "      <td>74.000000</td>\n",
       "      <td>74.000000</td>\n",
       "      <td>74.000000</td>\n",
       "      <td>74.000000</td>\n",
       "    </tr>\n",
       "    <tr>\n",
       "      <th>mean</th>\n",
       "      <td>0.129657</td>\n",
       "      <td>0.345992</td>\n",
       "      <td>-2.726392</td>\n",
       "      <td>73518.000000</td>\n",
       "    </tr>\n",
       "    <tr>\n",
       "      <th>std</th>\n",
       "      <td>0.110989</td>\n",
       "      <td>0.068608</td>\n",
       "      <td>1.575415</td>\n",
       "      <td>142720.100777</td>\n",
       "    </tr>\n",
       "    <tr>\n",
       "      <th>min</th>\n",
       "      <td>0.009778</td>\n",
       "      <td>0.123319</td>\n",
       "      <td>-6.666113</td>\n",
       "      <td>20.000000</td>\n",
       "    </tr>\n",
       "    <tr>\n",
       "      <th>25%</th>\n",
       "      <td>0.052292</td>\n",
       "      <td>0.309149</td>\n",
       "      <td>-3.563142</td>\n",
       "      <td>6761.750000</td>\n",
       "    </tr>\n",
       "    <tr>\n",
       "      <th>50%</th>\n",
       "      <td>0.080591</td>\n",
       "      <td>0.347927</td>\n",
       "      <td>-3.078976</td>\n",
       "      <td>26139.500000</td>\n",
       "    </tr>\n",
       "    <tr>\n",
       "      <th>75%</th>\n",
       "      <td>0.176473</td>\n",
       "      <td>0.379041</td>\n",
       "      <td>-1.793054</td>\n",
       "      <td>84849.750000</td>\n",
       "    </tr>\n",
       "    <tr>\n",
       "      <th>max</th>\n",
       "      <td>0.410527</td>\n",
       "      <td>0.497787</td>\n",
       "      <td>0.886390</td>\n",
       "      <td>918022.000000</td>\n",
       "    </tr>\n",
       "  </tbody>\n",
       "</table>\n",
       "</div>"
      ],
      "text/plain": [
       "            TELE      SKILL        PSI  JOB_CREATION_BIRTHS\n",
       "count  74.000000  74.000000  74.000000            74.000000\n",
       "mean    0.129657   0.345992  -2.726392         73518.000000\n",
       "std     0.110989   0.068608   1.575415        142720.100777\n",
       "min     0.009778   0.123319  -6.666113            20.000000\n",
       "25%     0.052292   0.309149  -3.563142          6761.750000\n",
       "50%     0.080591   0.347927  -3.078976         26139.500000\n",
       "75%     0.176473   0.379041  -1.793054         84849.750000\n",
       "max     0.410527   0.497787   0.886390        918022.000000"
      ]
     },
     "execution_count": 199,
     "metadata": {},
     "output_type": "execute_result"
    }
   ],
   "source": [
    "ind_3.PSI."
   ]
  },
  {
   "cell_type": "code",
   "execution_count": null,
   "metadata": {},
   "outputs": [
    {
     "data": {
      "image/png": "[encoded data removed]",
      "text/plain": [
       "<Figure size 1600x400 with 4 Axes>"
      ]
     },
     "metadata": {},
     "output_type": "display_data"
    }
   ],
   "source": [
    "fig, axes = plt.subplots(1, 4, figsize=(16, 4))\n",
    "\n",
    "# KDE plot\n",
    "sns.kdeplot(data=ind_3, x=\"PSI\", weights=\"JOB_CREATION_BIRTHS\", ax=axes[0])\n",
    "axes[0].set_title(\"KDE Distribution of Psi\")\n",
    "axes[0].set_xlabel(\"Remote Work Efficiency\")\n",
    "axes[0].set_ylabel(\"Density\")\n",
    "\n",
    "# Histogram plot\n",
    "sns.histplot(data=ind_3, x=\"PSI\", weights=\"JOB_CREATION_BIRTHS\", bins=20, stat=\"density\", ax=axes[1])\n",
    "axes[1].set_title(\"Histogram Distribution of Psi\")\n",
    "axes[1].set_xlabel(\"Remote Work Efficiency\")\n",
    "\n",
    "# ECDF plot\n",
    "sns.ecdfplot(data=ind_3, x=\"PSI\", weights=\"JOB_CREATION_BIRTHS\", ax=axes[2])\n",
    "axes[2].set_ylabel(\"Cumulative Probability\")\n",
    "axes[2].set_title(\"ECDF of Psi\")\n",
    "axes[2].set_xlabel(\"Remote Work Efficiency\")\n",
    "\n",
    "# Joint Distribution of Psi and Skill\n",
    "sns.kdeplot(data=ind_3, y=\"SKILL\", x=\"PSI\", weights=ind_3[\"JOB_CREATION_BIRTHS\"], cmap=\"Blues\", fill=True, ax=axes[3])\n",
    "axes[3].set_xlabel(\"Remote Work Efficiency\")\n",
    "axes[3].set_ylabel(\"Skill Index\")\n",
    "axes[3].set_title(\"Joint Distribution of Psi and Skill\")\n",
    "\n",
    "for ax in axes:\n",
    "    sns.despine(ax=ax)\n",
    "\n",
    "plt.tight_layout()\n",
    "plt.show()"
   ]
  },
  {
   "cell_type": "code",
   "execution_count": null,
   "metadata": {},
   "outputs": [
    {
     "data": {
      "image/png": "[encoded data removed]",
      "text/plain": [
       "<Figure size 1200x400 with 2 Axes>"
      ]
     },
     "metadata": {},
     "output_type": "display_data"
    }
   ],
   "source": [
    "from scipy.stats import gaussian_kde\n",
    "\n",
    "psi_values = ind_3['PSI'].values\n",
    "weights = ind_3[\"JOB_CREATION_BIRTHS\"].values\n",
    "\n",
    "kde = gaussian_kde(psi_values, weights=weights)\n",
    "num_grid_points = 100  # Adjust based on your model's needs\n",
    "grid = np.linspace(psi_values.min(), psi_values.max(), num_grid_points)\n",
    "pdf_values = kde.evaluate(grid)\n",
    "probabilities = pdf_values / pdf_values.sum()  # Ensure sum to 1\n",
    "psi_distribution = pd.DataFrame({\n",
    "    'grid_point': grid,\n",
    "    'pdf': probabilities\n",
    "})\n",
    "psi_distribution[\"probability\"] = psi_distribution[\"pdf\"] / psi_distribution[\"pdf\"].sum()\n",
    "psi_distribution[\"cdf\"] = psi_distribution[\"probability\"].cumsum()\n",
    "\n",
    "fig, ax = plt.subplots(1, 2, figsize=(12, 4))\n",
    "\n",
    "sns.lineplot(ax = ax[0], data=psi_distribution, x='grid_point', y='probability')\n",
    "ax[0].set_xlabel('Psi')\n",
    "ax[0].set_ylabel('Probability')\n",
    "ax[0].set_title('Estimated PDF of Psi')\n",
    "\n",
    "sns.lineplot(ax = ax[1], data=psi_distribution, x='grid_point', y='cdf')\n",
    "ax[1].set_xlabel('Psi')\n",
    "ax[1].set_ylabel('Cumulative Probability')\n",
    "ax[1].set_title('Estimated CDF of Psi')\n",
    "\n",
    "sns.despine()\n",
    "plt.show()"
   ]
  }
 ],
 "metadata": {
  "kernelspec": {
   "display_name": "base",
   "language": "python",
   "name": "python3"
  },
  "language_info": {
   "codemirror_mode": {
    "name": "ipython",
    "version": 3
   },
   "file_extension": ".py",
   "mimetype": "text/x-python",
   "name": "python",
   "nbconvert_exporter": "python",
   "pygments_lexer": "ipython3",
   "version": "3.12.7"
  }
 },
 "nbformat": 4,
 "nbformat_minor": 2
}
