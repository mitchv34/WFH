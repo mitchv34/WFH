{
 "cells": [
  {
   "cell_type": "code",
   "execution_count": 1,
   "metadata": {},
   "outputs": [
    {
     "data": {
      "application/vnd.microsoft.datawrangler.viewer.v0+json": {
       "columns": [
        {
         "name": "index",
         "rawType": "int64",
         "type": "integer"
        },
        {
         "name": "ONET_SOC_CODE",
         "rawType": "object",
         "type": "string"
        },
        {
         "name": "ONET_SOC_TITLE",
         "rawType": "object",
         "type": "string"
        },
        {
         "name": "OCC_CODE",
         "rawType": "object",
         "type": "string"
        },
        {
         "name": "OCC_TITLE",
         "rawType": "object",
         "type": "string"
        }
       ],
       "conversionMethod": "pd.DataFrame",
       "ref": "1dcd4726-1d72-479a-bfb1-3c3f98e5b4d3",
       "rows": [
        [
         "0",
         "11-1011.00",
         "Chief Executives",
         "11-1011",
         "Chief Executives"
        ],
        [
         "1",
         "11-1011.03",
         "Chief Sustainability Officers",
         "11-1011",
         "Chief Executives"
        ],
        [
         "2",
         "11-1021.00",
         "General and Operations Managers",
         "11-1021",
         "General and Operations Managers"
        ],
        [
         "3",
         "11-1031.00",
         "Legislators",
         "11-1031",
         "Legislators"
        ],
        [
         "4",
         "11-2011.00",
         "Advertising and Promotions Managers",
         "11-2011",
         "Advertising and Promotions Managers"
        ],
        [
         "5",
         "11-2021.00",
         "Marketing Managers",
         "11-2021",
         "Marketing Managers"
        ],
        [
         "6",
         "11-2022.00",
         "Sales Managers",
         "11-2022",
         "Sales Managers"
        ],
        [
         "7",
         "11-2032.00",
         "Public Relations Managers",
         "11-2032",
         "Public Relations Managers"
        ],
        [
         "8",
         "11-2033.00",
         "Fundraising Managers",
         "11-2033",
         "Fundraising Managers"
        ],
        [
         "9",
         "11-3012.00",
         "Administrative Services Managers",
         "11-3012",
         "Administrative Services Managers"
        ],
        [
         "10",
         "11-3013.00",
         "Facilities Managers",
         "11-3013",
         "Facilities Managers"
        ],
        [
         "11",
         "11-3013.01",
         "Security Managers",
         "11-3013",
         "Facilities Managers"
        ],
        [
         "12",
         "11-3021.00",
         "Computer and Information Systems Managers",
         "11-3021",
         "Computer and Information Systems Managers"
        ],
        [
         "13",
         "11-3031.00",
         "Financial Managers",
         "11-3031",
         "Financial Managers"
        ],
        [
         "14",
         "11-3031.01",
         "Treasurers and Controllers",
         "11-3031",
         "Financial Managers"
        ],
        [
         "15",
         "11-3031.03",
         "Investment Fund Managers",
         "11-3031",
         "Financial Managers"
        ],
        [
         "16",
         "11-3051.00",
         "Industrial Production Managers",
         "11-3051",
         "Industrial Production Managers"
        ],
        [
         "17",
         "11-3051.01",
         "Quality Control Systems Managers",
         "11-3051",
         "Industrial Production Managers"
        ],
        [
         "18",
         "11-3051.02",
         "Geothermal Production Managers",
         "11-3051",
         "Industrial Production Managers"
        ],
        [
         "19",
         "11-3051.03",
         "Biofuels Production Managers",
         "11-3051",
         "Industrial Production Managers"
        ],
        [
         "20",
         "11-3051.04",
         "Biomass Power Plant Managers",
         "11-3051",
         "Industrial Production Managers"
        ],
        [
         "21",
         "11-3051.06",
         "Hydroelectric Production Managers",
         "11-3051",
         "Industrial Production Managers"
        ],
        [
         "22",
         "11-3061.00",
         "Purchasing Managers",
         "11-3061",
         "Purchasing Managers"
        ],
        [
         "23",
         "11-3071.00",
         "Transportation, Storage, and Distribution Managers",
         "11-3071",
         "Transportation, Storage, and Distribution Managers"
        ],
        [
         "24",
         "11-3071.04",
         "Supply Chain Managers",
         "11-3071",
         "Transportation, Storage, and Distribution Managers"
        ],
        [
         "25",
         "11-3111.00",
         "Compensation and Benefits Managers",
         "11-3111",
         "Compensation and Benefits Managers"
        ],
        [
         "26",
         "11-3121.00",
         "Human Resources Managers",
         "11-3121",
         "Human Resources Managers"
        ],
        [
         "27",
         "11-3131.00",
         "Training and Development Managers",
         "11-3131",
         "Training and Development Managers"
        ],
        [
         "28",
         "11-9013.00",
         "Farmers, Ranchers, and Other Agricultural Managers",
         "11-9013",
         "Farmers, Ranchers, and Other Agricultural Managers"
        ],
        [
         "29",
         "11-9021.00",
         "Construction Managers",
         "11-9021",
         "Construction Managers"
        ],
        [
         "30",
         "11-9031.00",
         "Education and Childcare Administrators, Preschool and Daycare",
         "11-9031",
         "Education and Childcare Administrators, Preschool and Daycare"
        ],
        [
         "31",
         "11-9032.00",
         "Education Administrators, Kindergarten through Secondary",
         "11-9032",
         "Education Administrators, Kindergarten through Secondary"
        ],
        [
         "32",
         "11-9033.00",
         "Education Administrators, Postsecondary",
         "11-9033",
         "Education Administrators, Postsecondary"
        ],
        [
         "33",
         "11-9039.00",
         "Education Administrators, All Other",
         "11-9039",
         "Education Administrators, All Other"
        ],
        [
         "34",
         "11-9041.00",
         "Architectural and Engineering Managers",
         "11-9041",
         "Architectural and Engineering Managers"
        ],
        [
         "35",
         "11-9041.01",
         "Biofuels/Biodiesel Technology and Product Development Managers",
         "11-9041",
         "Architectural and Engineering Managers"
        ],
        [
         "36",
         "11-9051.00",
         "Food Service Managers",
         "11-9051",
         "Food Service Managers"
        ],
        [
         "37",
         "11-9071.00",
         "Gambling Managers",
         "11-9071",
         "Gambling Managers"
        ],
        [
         "38",
         "11-9072.00",
         "Entertainment and Recreation Managers, Except Gambling",
         "11-9072",
         "Entertainment and Recreation Managers, Except Gambling"
        ],
        [
         "39",
         "11-9081.00",
         "Lodging Managers",
         "11-9081",
         "Lodging Managers"
        ],
        [
         "40",
         "11-9111.00",
         "Medical and Health Services Managers",
         "11-9111",
         "Medical and Health Services Managers"
        ],
        [
         "41",
         "11-9121.00",
         "Natural Sciences Managers",
         "11-9121",
         "Natural Sciences Managers"
        ],
        [
         "42",
         "11-9121.01",
         "Clinical Research Coordinators",
         "11-9121",
         "Natural Sciences Managers"
        ],
        [
         "43",
         "11-9121.02",
         "Water Resource Specialists",
         "11-9121",
         "Natural Sciences Managers"
        ],
        [
         "44",
         "11-9131.00",
         "Postmasters and Mail Superintendents",
         "11-9131",
         "Postmasters and Mail Superintendents"
        ],
        [
         "45",
         "11-9141.00",
         "Property, Real Estate, and Community Association Managers",
         "11-9141",
         "Property, Real Estate, and Community Association Managers"
        ],
        [
         "46",
         "11-9151.00",
         "Social and Community Service Managers",
         "11-9151",
         "Social and Community Service Managers"
        ],
        [
         "47",
         "11-9161.00",
         "Emergency Management Directors",
         "11-9161",
         "Emergency Management Directors"
        ],
        [
         "48",
         "11-9171.00",
         "Funeral Home Managers",
         "11-9171",
         "Funeral Home Managers"
        ],
        [
         "49",
         "11-9179.00",
         "Personal Service Managers, All Other",
         "11-9179",
         "Personal Service Managers, All Other"
        ]
       ],
       "shape": {
        "columns": 4,
        "rows": 1016
       }
      },
      "text/html": [
       "<div>\n",
       "<style scoped>\n",
       "    .dataframe tbody tr th:only-of-type {\n",
       "        vertical-align: middle;\n",
       "    }\n",
       "\n",
       "    .dataframe tbody tr th {\n",
       "        vertical-align: top;\n",
       "    }\n",
       "\n",
       "    .dataframe thead th {\n",
       "        text-align: right;\n",
       "    }\n",
       "</style>\n",
       "<table border=\"1\" class=\"dataframe\">\n",
       "  <thead>\n",
       "    <tr style=\"text-align: right;\">\n",
       "      <th></th>\n",
       "      <th>ONET_SOC_CODE</th>\n",
       "      <th>ONET_SOC_TITLE</th>\n",
       "      <th>OCC_CODE</th>\n",
       "      <th>OCC_TITLE</th>\n",
       "    </tr>\n",
       "  </thead>\n",
       "  <tbody>\n",
       "    <tr>\n",
       "      <th>0</th>\n",
       "      <td>11-1011.00</td>\n",
       "      <td>Chief Executives</td>\n",
       "      <td>11-1011</td>\n",
       "      <td>Chief Executives</td>\n",
       "    </tr>\n",
       "    <tr>\n",
       "      <th>1</th>\n",
       "      <td>11-1011.03</td>\n",
       "      <td>Chief Sustainability Officers</td>\n",
       "      <td>11-1011</td>\n",
       "      <td>Chief Executives</td>\n",
       "    </tr>\n",
       "    <tr>\n",
       "      <th>2</th>\n",
       "      <td>11-1021.00</td>\n",
       "      <td>General and Operations Managers</td>\n",
       "      <td>11-1021</td>\n",
       "      <td>General and Operations Managers</td>\n",
       "    </tr>\n",
       "    <tr>\n",
       "      <th>3</th>\n",
       "      <td>11-1031.00</td>\n",
       "      <td>Legislators</td>\n",
       "      <td>11-1031</td>\n",
       "      <td>Legislators</td>\n",
       "    </tr>\n",
       "    <tr>\n",
       "      <th>4</th>\n",
       "      <td>11-2011.00</td>\n",
       "      <td>Advertising and Promotions Managers</td>\n",
       "      <td>11-2011</td>\n",
       "      <td>Advertising and Promotions Managers</td>\n",
       "    </tr>\n",
       "    <tr>\n",
       "      <th>...</th>\n",
       "      <td>...</td>\n",
       "      <td>...</td>\n",
       "      <td>...</td>\n",
       "      <td>...</td>\n",
       "    </tr>\n",
       "    <tr>\n",
       "      <th>1011</th>\n",
       "      <td>55-3014.00</td>\n",
       "      <td>Artillery and Missile Crew Members</td>\n",
       "      <td>55-3014</td>\n",
       "      <td>Artillery and Missile Crew Members</td>\n",
       "    </tr>\n",
       "    <tr>\n",
       "      <th>1012</th>\n",
       "      <td>55-3015.00</td>\n",
       "      <td>Command and Control Center Specialists</td>\n",
       "      <td>55-3015</td>\n",
       "      <td>Command and Control Center Specialists</td>\n",
       "    </tr>\n",
       "    <tr>\n",
       "      <th>1013</th>\n",
       "      <td>55-3016.00</td>\n",
       "      <td>Infantry</td>\n",
       "      <td>55-3016</td>\n",
       "      <td>Infantry</td>\n",
       "    </tr>\n",
       "    <tr>\n",
       "      <th>1014</th>\n",
       "      <td>55-3018.00</td>\n",
       "      <td>Special Forces</td>\n",
       "      <td>55-3018</td>\n",
       "      <td>Special Forces</td>\n",
       "    </tr>\n",
       "    <tr>\n",
       "      <th>1015</th>\n",
       "      <td>55-3019.00</td>\n",
       "      <td>Military Enlisted Tactical Operations and Air/...</td>\n",
       "      <td>55-3019</td>\n",
       "      <td>Military Enlisted Tactical Operations and Air/...</td>\n",
       "    </tr>\n",
       "  </tbody>\n",
       "</table>\n",
       "<p>1016 rows × 4 columns</p>\n",
       "</div>"
      ],
      "text/plain": [
       "     ONET_SOC_CODE                                     ONET_SOC_TITLE  \\\n",
       "0       11-1011.00                                   Chief Executives   \n",
       "1       11-1011.03                      Chief Sustainability Officers   \n",
       "2       11-1021.00                    General and Operations Managers   \n",
       "3       11-1031.00                                        Legislators   \n",
       "4       11-2011.00                Advertising and Promotions Managers   \n",
       "...            ...                                                ...   \n",
       "1011    55-3014.00                 Artillery and Missile Crew Members   \n",
       "1012    55-3015.00             Command and Control Center Specialists   \n",
       "1013    55-3016.00                                           Infantry   \n",
       "1014    55-3018.00                                     Special Forces   \n",
       "1015    55-3019.00  Military Enlisted Tactical Operations and Air/...   \n",
       "\n",
       "     OCC_CODE                                          OCC_TITLE  \n",
       "0     11-1011                                   Chief Executives  \n",
       "1     11-1011                                   Chief Executives  \n",
       "2     11-1021                    General and Operations Managers  \n",
       "3     11-1031                                        Legislators  \n",
       "4     11-2011                Advertising and Promotions Managers  \n",
       "...       ...                                                ...  \n",
       "1011  55-3014                 Artillery and Missile Crew Members  \n",
       "1012  55-3015             Command and Control Center Specialists  \n",
       "1013  55-3016                                           Infantry  \n",
       "1014  55-3018                                     Special Forces  \n",
       "1015  55-3019  Military Enlisted Tactical Operations and Air/...  \n",
       "\n",
       "[1016 rows x 4 columns]"
      ]
     },
     "execution_count": 1,
     "metadata": {},
     "output_type": "execute_result"
    }
   ],
   "source": [
    "import pandas as pd\n",
    "import numpy as np\n",
    "import matplotlib.pyplot as plt\n",
    "import seaborn as sns\n",
    "import os\n",
    "sns.set(style='white', context='notebook', rc={'figure.figsize':(14,10)})\n",
    "\n",
    "onet_soc_xwalk = pd.read_excel(\"https://www.onetcenter.org/taxonomy/2019/soc/2019_to_SOC_Crosswalk.xlsx?fmt=xlsx\", skiprows=3)\n",
    "onet_soc_xwalk.rename(\n",
    "    columns= lambda x: x.replace(' ','_').replace('-','_').replace('*','').replace(\"2019_\",\"\").replace(\"2018_\",\"\").upper(), \n",
    "    inplace=True\n",
    "    )\n",
    "onet_soc_xwalk.rename(columns={'SOC_CODE':'OCC_CODE', 'SOC_TITLE':'OCC_TITLE'}, inplace=True)\n",
    "onet_soc_xwalk"
   ]
  },
  {
   "cell_type": "markdown",
   "metadata": {},
   "source": [
    "# ONET DATA"
   ]
  },
  {
   "cell_type": "code",
   "execution_count": 152,
   "metadata": {},
   "outputs": [],
   "source": [
    "DATA_DIR_ONET = '../../../data/onet_data/processed/measure/'\n",
    "\n",
    "# Load data\n",
    "WorkActivity = pd.read_csv(os.path.join(DATA_DIR_ONET, 'WORK_ACTIVITIES.csv'))\n",
    "WorkContext = pd.read_csv(os.path.join(DATA_DIR_ONET, 'WORK_CONTEXT.csv'))"
   ]
  },
  {
   "cell_type": "code",
   "execution_count": 153,
   "metadata": {},
   "outputs": [],
   "source": [
    "WorkActivity = WorkActivity.loc[\n",
    "    ( WorkActivity.SCALE_ID == \"IM\" ),\n",
    "    ['ONET_SOC_CODE', 'ELEMENT_NAME', 'ELEMENT_ID', 'DATA_VALUE', 'N']\n",
    "]\n",
    "WorkActivity['ELEMENT_NAME'] = 'wa_' + WorkActivity['ELEMENT_NAME']\n",
    "\n",
    "WorkContext = WorkContext.loc[\n",
    "    ( WorkContext.SCALE_ID  == \"CX\" ),\n",
    "    ['ONET_SOC_CODE', 'ELEMENT_NAME', 'ELEMENT_ID', 'DATA_VALUE', 'N']\n",
    "]\n",
    "WorkContext['ELEMENT_NAME'] = 'wc_' + WorkContext['ELEMENT_NAME']"
   ]
  },
  {
   "cell_type": "code",
   "execution_count": 141,
   "metadata": {},
   "outputs": [],
   "source": [
    "WorkActivityContext = pd.concat([WorkActivity, WorkContext])\n",
    "N = np.round( WorkActivityContext.groupby(\"ONET_SOC_CODE\").N.mean() )\n",
    "WorkActivityContext[\"ELEMENT_NAME\"] = (\n",
    "    WorkActivityContext[\"ELEMENT_NAME\"]\n",
    "    .str.replace(\" \", \"_\", regex=False)\n",
    "    .str.replace(\"/\", \"_\", regex=False)\n",
    "    .str.replace(\",\", \"\", regex=False)\n",
    "    .str.replace(\"-\", \"_\", regex=False)\n",
    "    .str.replace(\"_with_\", \"_\", regex=False)\n",
    ")\n",
    "WorkActivityContext[\"ELEMENT_NAME\"] = WorkActivityContext[\"ELEMENT_NAME\"].str[:20] + \"_\" + WorkActivityContext[\"ELEMENT_ID\"]\n",
    "WorkActivityContext[\"ELEMENT_NAME\"] = WorkActivityContext[\"ELEMENT_NAME\"].str.replace(\".\", \"\", regex=False)\n",
    "WorkActivityContext[\"ELEMENT_NAME\"] = WorkActivityContext[\"ELEMENT_NAME\"].str.replace(\"__\", \"_\", regex=False)\n",
    "WorkActivityContext = WorkActivityContext.pivot(\n",
    "    index='ONET_SOC_CODE', \n",
    "    columns=['ELEMENT_NAME'], \n",
    "    values='DATA_VALUE').rename_axis(None, axis=1)\n",
    "WorkActivityContext[\"N\"] = N\n",
    "WorkActivityContext = WorkActivityContext.reset_index()\n",
    "\n",
    "WorkActivityContext = WorkActivityContext.merge(\n",
    "    onet_soc_xwalk[['ONET_SOC_CODE', 'OCC_CODE', 'OCC_TITLE']],\n",
    "    on='ONET_SOC_CODE', \n",
    "    how='inner')\n",
    "\n",
    "\n",
    "# select columns to compute the weighted mean (columns starting with 'wa_' or 'wc_')\n",
    "weighted_cols = [col for col in WorkActivityContext.columns if col.startswith('wa_') or col.startswith('wc_')]\n",
    "\n",
    "# build aggregation dictionary: weighted average using N as weights and first value for OES_TITLE\n",
    "agg_dict = {col: (lambda x: np.average(x, weights=WorkActivityContext.loc[x.index, 'N'])) for col in weighted_cols}\n",
    "agg_dict['OES_TITLE'] = 'first'\n",
    "\n",
    "# group by OES_CODE (representing 'oes2019') and aggregate\n",
    "# WorkActivityContext = WorkActivityContext.groupby('OES_CODE').agg(agg_dict).reset_index()\n",
    "# reverse email so that larger number indicates less email (= harder to WFH)\n",
    "WorkActivityContext['wc_Electronic_Mail_4C1a2h'] = 5 - WorkActivityContext['wc_Electronic_Mail_4C1a2h'] + 1"
   ]
  },
  {
   "cell_type": "markdown",
   "metadata": {},
   "source": [
    "# BLS DATA"
   ]
  },
  {
   "cell_type": "code",
   "execution_count": 99,
   "metadata": {},
   "outputs": [],
   "source": [
    "DATA_DIR_OES = '../../../data/processed/bls/oews/oews_all_2023.csv'\n",
    "oes = pd.read_csv(DATA_DIR_OES, low_memory=False)"
   ]
  },
  {
   "cell_type": "code",
   "execution_count": 164,
   "metadata": {},
   "outputs": [],
   "source": [
    "oes_nat = oes.loc[\n",
    "    (oes.AREA == 99) &\n",
    "    (oes.O_GROUP == 'detailed') &\n",
    "    (oes.I_GROUP == \"cross-industry\"),\n",
    "    ['OCC_CODE', \"OCC_TITLE\", \"TOT_EMP\"]\n",
    "]\n",
    "oes_nat[\"TOT_EMP\"] = pd.to_numeric(oes_nat[\"TOT_EMP\"], errors='coerce')\n",
    "oes_nat = oes_nat.groupby([\"OCC_CODE\", \"OCC_TITLE\"]).TOT_EMP.sum().reset_index()"
   ]
  },
  {
   "cell_type": "code",
   "execution_count": 101,
   "metadata": {},
   "outputs": [],
   "source": [
    "oes_nat_ind = oes.loc[\n",
    "    (oes.AREA == 99) &\n",
    "    (oes.I_GROUP == \"4-digit\") &\n",
    "    (oes.O_GROUP == 'detailed'),\n",
    "    ['OCC_CODE', \"OCC_TITLE\", \"TOT_EMP\"] + [col for col in oes.columns if col.startswith('NAICS')]\n",
    "]\n",
    "oes_nat_ind[\"TOT_EMP\"] = pd.to_numeric(oes_nat_ind[\"TOT_EMP\"], errors='coerce')\n",
    "oes_nat_ind = oes_nat_ind.groupby([\"OCC_CODE\", \"OCC_TITLE\", \"NAICS\", \"NAICS_TITLE\"]).TOT_EMP.sum().reset_index()"
   ]
  },
  {
   "cell_type": "markdown",
   "metadata": {},
   "source": [
    "# EXPOSURE MEASURES"
   ]
  },
  {
   "cell_type": "code",
   "execution_count": 208,
   "metadata": {},
   "outputs": [
    {
     "name": "stdout",
     "output_type": "stream",
     "text": [
      "Num. of OES occs which don't merge = 89\n",
      "['11-1031' '11-2032' '11-2033' '11-9039' '11-9072' '13-1020' '13-1082'\n",
      " '13-2020' '13-2051' '13-2054' '15-1252' '17-3019' '17-3028' '19-1099'\n",
      " '19-4044' '21-1018' '21-1019' '21-1029' '21-1099' '21-2099' '23-2099'\n",
      " '25-1069' '25-1199' '25-2052' '25-3031' '25-3099' '25-9045' '25-9099'\n",
      " '27-1019' '27-1029' '27-2091' '27-2099' '27-3099' '27-4015' '27-4099'\n",
      " '29-1029' '29-1212' '29-1214' '29-1242' '29-1243' '29-1249' '29-2010'\n",
      " '29-2042' '29-2043' '29-2072' '29-9021' '31-1120' '33-1091' '33-1099'\n",
      " '33-9094' '35-2019' '35-9099' '37-2019' '37-3019' '39-1014' '39-3019'\n",
      " '39-3099' '39-4012' '39-7010' '39-9099' '41-3091' '41-9099' '43-2099'\n",
      " '43-3099' '43-4199' '43-9199' '45-2099' '45-4029' '47-3019' '47-4090'\n",
      " '47-5049' '47-5099' '49-9069' '51-2028' '51-2090' '51-3099' '51-4199'\n",
      " '51-6099' '51-7099' '51-9199' '53-1047' '53-3051' '53-3053' '53-3054'\n",
      " '53-3099' '53-4099' '53-6032' '53-6099' '53-7199']\n",
      "Emp. (millions) in national OES which doesn't have O*NET vars = 17.15393 ( 11.30% )\n",
      "Emp. (millions) in nat OES which does have O*NET vars = 134.69924 ( 88.70% )\n"
     ]
    }
   ],
   "source": [
    "# Merge the two datasets on the common key \"oes2019\"\n",
    "\n",
    "merged = pd.merge(oes_nat[[\"OCC_CODE\", \"TOT_EMP\"]], WorkActivityContext, on=\"OCC_CODE\", how=\"outer\", indicator=True)\n",
    "\n",
    "# Count the OES occupations that did not merge (rows coming only from the OES file)\n",
    "num_left_only = merged[merged['_merge'] == 'left_only'].shape[0]\n",
    "print(\"Num. of OES occs which don't merge =\", num_left_only)\n",
    "\n",
    "# Tabulate the merge key for the OES observations that did not match\n",
    "list_left_only = merged.loc[merged['_merge'] == 'left_only', 'OCC_CODE'].values\n",
    "print(list_left_only)\n",
    "\n",
    "# For OES obs that did not merge, compute the total employment (TOT_EMP) in millions\n",
    "total_emp = oes_nat.TOT_EMP.sum() / 1_000_000\n",
    "aux1_nat = merged.loc[merged['_merge'] == 'left_only', 'TOT_EMP'].sum() / 1_000_000\n",
    "print(f\"Emp. (millions) in national OES which doesn't have O*NET vars = {aux1_nat} ( {aux1_nat/total_emp:.2%} )\")\n",
    "\n",
    "# For merged observations (matched in both), compute total employment in millions  \n",
    "list_both = merged.loc[merged['_merge'] == 'both', \"OCC_CODE\"].unique()\n",
    "aux2_nat = oes_nat[oes_nat.OCC_CODE.isin(list_both)].TOT_EMP.sum() / 1_000_000\n",
    "print(f\"Emp. (millions) in nat OES which does have O*NET vars = {aux2_nat} ( {aux2_nat/total_emp:.2%} )\")\n",
    "\n",
    "merged.drop(columns=['_merge'], inplace=True)\n",
    "\n",
    "cols = [col for col in merged.columns if col.startswith('wa_') or col.startswith('wc_')]\n",
    "merged = merged.groupby([\"OCC_CODE\", \"OCC_TITLE\"]).apply(\n",
    "    lambda x: pd.Series({\n",
    "        **{c: np.average(x[c], weights=x['N']) for c in cols},\n",
    "        **{'TOT_EMP': x['TOT_EMP'].sum()}\n",
    "    }),include_groups=False).reset_index()\n",
    "\n",
    "merged.rename(columns={\"wc_Physical_Proximit_4C2a3\" : \"pp\"}, inplace=True)\n",
    "merged[\"wc_Electronic_Mail_4C1a2h\"] = 5 - merged[\"wc_Electronic_Mail_4C1a2h\"] + 1\n",
    "cols.remove(\"wc_Physical_Proximit_4C2a3\")\n",
    "# Convert to binary\n",
    "merged[cols] = (merged[cols] > 3.5).astype(int)\n",
    "merged.set_index([\"OCC_CODE\", \"OCC_TITLE\"], inplace=True)"
   ]
  },
  {
   "cell_type": "code",
   "execution_count": 226,
   "metadata": {},
   "outputs": [
    {
     "name": "stdout",
     "output_type": "stream",
     "text": [
      "LWFH Median = 2.0\n",
      "PP Median = 3.639802223600274\n"
     ]
    },
    {
     "name": "stderr",
     "output_type": "stream",
     "text": [
      "/software/anaconda/lib/python3.12/site-packages/numpy/core/fromnumeric.py:59: FutureWarning: The behavior of Series.argsort in the presence of NA values is deprecated. In a future version, NA values will be ordered last instead of set to -1.\n",
      "  return bound(*args, **kwds)\n"
     ]
    }
   ],
   "source": [
    "low_wfh_cols = [\n",
    "    'wc_Electronic_Mail_4C1a2h',\n",
    "    'wc_Outdoors_Exposed_4C2a1c',\n",
    "    'wc_Outdoors_Under_Co_4C2a1d',\n",
    "    'wc_Deal_With_Physica_4C1d3',\n",
    "    'wc_Wear_Common_Prote_4C2e1d',\n",
    "    'wc_Wear_Specialized_4C2e1e',\n",
    "    'wc_Exposed_to_Diseas_4C2c1b',\n",
    "    'wc_Exposed_to_Minor_4C2c1f',\n",
    "    'wc_Spend_Time_Walkin_4C2d1d',\n",
    "    'wa_Performing_Genera_4A3a1',\n",
    "    'wa_Handling_and_Movi_4A3a2',\n",
    "    'wa_Controlling_Machi_4A3a3',\n",
    "    'wa_Operating_Vehicle_4A3a4',\n",
    "    'wa_Performing_for_or_4A4a8',\n",
    "    'wa_Repairing_and_Mai_4A3b5',\n",
    "    'wa_Repairing_and_Mai_4A3b4',\n",
    "    'wa_Inspecting_Equipm_4A1b2'\n",
    "]\n",
    "\n",
    "merged_low_wfh = merged[low_wfh_cols].sum(axis=1).copy().to_frame().rename(columns={0: \"low_wfh\"})\n",
    "merged_pp = merged[\"pp\"].copy().to_frame()\n",
    "\n",
    "\n",
    "def weighted_quantile(values, quantiles, sample_weight):\n",
    "    # sort in ascending order\n",
    "    sorter = np.argsort(values)\n",
    "    values = np.array(values)[sorter]\n",
    "    weights = np.array(sample_weight)[sorter]\n",
    "    cumulative_weight = np.cumsum(weights) - 0.5 * weights\n",
    "    cumulative_weight /= cumulative_weight[-1]\n",
    "    return np.interp(quantiles, cumulative_weight, values)\n",
    "\n",
    "# # Compute weighted quantiles using TOT_EMP as weights\n",
    "q1, median, q3 = weighted_quantile(merged_low_wfh['low_wfh'], [0.25, 0.5, 0.75], sample_weight=merged['TOT_EMP'])\n",
    "\n",
    "merged_low_wfh['low_wfh_binary'] = (merged_low_wfh['low_wfh'] > median).astype(int)\n",
    "merged_low_wfh['low_wfh_q1']     = (merged_low_wfh['low_wfh'] <= q1).astype(int)\n",
    "merged_low_wfh['low_wfh_q2']     = ((merged_low_wfh['low_wfh'] <= median) & (merged_low_wfh['low_wfh'] > q1)).astype(int)\n",
    "merged_low_wfh['low_wfh_q3']     = ((merged_low_wfh['low_wfh'] <= q3) & (merged_low_wfh['low_wfh'] > median)).astype(int)\n",
    "merged_low_wfh['low_wfh_q4']     = (merged_low_wfh['low_wfh'] > q3).astype(int)\n",
    "\n",
    "print(\"LWFH Median =\", median)\n",
    "\n",
    "q1, median, q3 = weighted_quantile(merged['pp'], [0.25, 0.5, 0.75], sample_weight=merged['TOT_EMP'])\n",
    "\n",
    "merged_pp['high_pp_binary'] = (merged_pp['pp'] > median).astype(int)\n",
    "merged_pp['pp_q1']     = (merged_pp['pp'] <= q1).astype(int)\n",
    "merged_pp['pp_q2']     = ((merged_pp['pp'] <= median) & (merged_pp['pp'] > q1)).astype(int)\n",
    "merged_pp['pp_q3']     = ((merged_pp['pp'] <= q3) & (merged_pp['pp'] > median)).astype(int)\n",
    "merged_pp['pp_q4']     = (merged_pp['pp'] > q3).astype(int)\n",
    "\n",
    "print(\"PP Median =\", median)\n",
    "\n",
    "merged_low_wfh[\"high_wfh_binary\"] = 1 - merged_low_wfh[\"low_wfh_binary\"]\n",
    "merged_pp[\"low_pp_binary\"]   = 1 - merged_pp[\"high_pp_binary\"]\n"
   ]
  },
  {
   "cell_type": "code",
   "execution_count": 230,
   "metadata": {},
   "outputs": [],
   "source": [
    "# Normalize the 'pp' values in merged_pp to [0, 1]\n",
    "pp_min = merged_pp['pp'].min()\n",
    "pp_max = merged_pp['pp'].max()\n",
    "merged_pp['pp'] = (merged_pp['pp'] - pp_min) / (pp_max - pp_min)\n",
    "\n",
    "# Normalize the 'low_wfh' values in merged_low_wfh to [0, 1]\n",
    "wfh_min = merged_low_wfh['low_wfh'].min()\n",
    "wfh_max = merged_low_wfh['low_wfh'].max()\n",
    "merged_low_wfh['low_wfh'] = (merged_low_wfh['low_wfh'] - wfh_min) / (wfh_max - wfh_min)\n",
    "\n",
    "# Create the 'high_wfh' column as the complement of 'low_wfh'\n",
    "merged_low_wfh['high_wfh'] = 1 - merged_low_wfh['low_wfh']"
   ]
  },
  {
   "cell_type": "code",
   "execution_count": 241,
   "metadata": {},
   "outputs": [],
   "source": [
    "pd.concat([merged_low_wfh, merged_pp], axis=1).reset_index().to_csv(\"/project/high_tech_ind/WFH/WFH/data/aux_and_croswalks/low_wfh_pp.csv\", index=False)"
   ]
  }
 ],
 "metadata": {
  "kernelspec": {
   "display_name": "base",
   "language": "python",
   "name": "python3"
  },
  "language_info": {
   "codemirror_mode": {
    "name": "ipython",
    "version": 3
   },
   "file_extension": ".py",
   "mimetype": "text/x-python",
   "name": "python",
   "nbconvert_exporter": "python",
   "pygments_lexer": "ipython3",
   "version": "3.12.7"
  }
 },
 "nbformat": 4,
 "nbformat_minor": 2
}
